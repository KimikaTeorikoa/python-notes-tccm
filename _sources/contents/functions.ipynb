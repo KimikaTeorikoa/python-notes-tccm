{
 "cells": [
  {
   "cell_type": "markdown",
   "id": "9d3e51f4",
   "metadata": {},
   "source": [
    "# Functions\t\n",
    "We have already explored many things that can be done using Python, and\n",
    "specifically in the [previous chapter](flowcontrol.md), how to do\n",
    "them over and over again. Sometimes, as your code gets more complicated,\n",
    "it will make sense to **abstract** some of the computations that you are doing\n",
    "and isolate them into a separate piece of code. This set of actions \n",
    "will be performed by a **function**.\n",
    "\n",
    "Functions are useful for a number of reasons:\n",
    "* They make your code more *readable*.\n",
    "* Using functions you may *shorten* your code, avoiding repetitive actions.\n",
    "* They make your code easier to *debug*.\n",
    "* Functions may be *reused* in different programs.\n",
    "\n",
    "## Built-in functions\n",
    "In fact, we have been using functions since the beginning of our\n",
    "journey with Python. The functions that can be used in any moment\n",
    "in time just by typing them are called **built-in functions**.\n",
    "The first one we used is the `print()` function. Incidentally, since\n",
    "we have used it, we can check what type of object `print()` is"
   ]
  },
  {
   "cell_type": "code",
   "execution_count": 1,
   "id": "a680b5c4",
   "metadata": {},
   "outputs": [
    {
     "name": "stdout",
     "output_type": "stream",
     "text": [
      "<class 'builtin_function_or_method'>\n"
     ]
    }
   ],
   "source": [
    "print (type(print))"
   ]
  },
  {
   "cell_type": "markdown",
   "id": "7fb89298",
   "metadata": {},
   "source": [
    "There are many other built-in functions, \n",
    "like `abs()`, `all()`, `any()`, `dir()`, `enumerate()`, `int()`, \n",
    "`len()`, `range()` or `type()`. A complete list of built-in \n",
    "functions can be found in the [Python official\n",
    "documentation](https://docs.python.org/3/library/functions.html#built-in-functions).\n",
    "\n",
    "As you see functions are always invoked with a parenthesis `()`\n",
    "where we include the function **arguments**. These arguments\n",
    "are the *set of variables we pass on to a function* for it to work with.\n",
    "When we call a function, we typically expect something back. \n",
    "In the case of the `print()` function we expect output in the `stdout`.\n",
    "In many other cases, what the function **returns** is sent into\n",
    "one or more variables\n",
    "```python\n",
    "y = my_function(x, a, b)\n",
    "```\n",
    "In the example above, we have a function called `my_function()` which\n",
    "receives three arguments (`x`, `a` and `b`) and returns some data\n",
    "into `y`.\n",
    "\n",
    "## Writing functions\n",
    "But in addition to the built-in functions that are always available,\n",
    "you can write your own functions. The basic syntax for functions\n",
    "in Python is as follows:\n",
    "```python\n",
    "def my_function(arg1, arg2, ...):\n",
    "    # A number of actions that take place inside the function\n",
    "    ...\n",
    "    return value1, value2\n",
    "```\n",
    "As you see, to write a function we must first use the `def` *statement*,\n",
    "after which come the *name of your function*, with *parenthesis*, and \n",
    "its *function arguments*, `arg1` and `arg2`, will follow. \n",
    "Then starts an *indented block* that can be as long\n",
    "as required. The function usually will end with a `return` *statement*, \n",
    "which can return one or multiple values, or nothing at all. We call this type\n",
    "of function with no returns **void function**.  In a void function we can omit the `return` statement altogether.\n",
    "\n",
    "Functions must be *defined before they are used*. This will normally mean\n",
    "that the function is written above the main code we are running.\n",
    "If one function calls another function, then it does not matter which\n",
    "order they appear as long as the code is not executed. \n",
    "For example, in this code,"
   ]
  },
  {
   "cell_type": "code",
   "execution_count": 2,
   "id": "09a46ab5",
   "metadata": {},
   "outputs": [
    {
     "name": "stdout",
     "output_type": "stream",
     "text": [
      "yes\n"
     ]
    }
   ],
   "source": [
    "def call_tell_me_yes():\n",
    "    tell_me_yes()\n",
    "    \n",
    "def tell_me_yes():\n",
    "    print (\"yes\")\n",
    "    \n",
    "call_tell_me_yes()"
   ]
  },
  {
   "cell_type": "markdown",
   "id": "1f93c452",
   "metadata": {},
   "source": [
    "it does not matter that the first function is calling the second\n",
    "function, as both are defined at runtime.\n",
    "\n",
    "```{exercise}\n",
    ":nonumber:\n",
    ":class: dropdown\n",
    "\n",
    "Do you remember our first Python program called `hello_world.py`?\n",
    "Write a computer program that writes \"hello world\" using a function.\n",
    "Use a function argument to decide whether you write to your display \n",
    "or to a file.\n",
    "\n",
    "```\n",
    "\n",
    "## Scope of variables\n",
    "It is important to note that *whatever happens outside the function\n",
    "is visible to the function*, but not the other way around. \n",
    "Variables defined in the main program are said to have **global scope**.\n",
    "But variables defined inside the function have **local scope**,\n",
    "so *whatever happens in a function remains inside the function*. To\n",
    "make variables global in scope you can declare them as a **global** or\n",
    "return them as a result. To make a variable `x`inside a function global,\n",
    "you just need to type\n",
    "```python\n",
    "def my_function(arg):\n",
    "    global x \n",
    "    # Perform a number of actions\n",
    "    ...\n",
    "```\n",
    "\n",
    "Let's look carefully at the following example"
   ]
  },
  {
   "cell_type": "code",
   "execution_count": 3,
   "id": "0a7e36ce",
   "metadata": {},
   "outputs": [
    {
     "name": "stdout",
     "output_type": "stream",
     "text": [
      "a = 10\n",
      "b = 20\n",
      "c = 30\n"
     ]
    },
    {
     "ename": "NameError",
     "evalue": "name 'd' is not defined",
     "output_type": "error",
     "traceback": [
      "\u001b[0;31m---------------------------------------------------------------------------\u001b[0m",
      "\u001b[0;31mNameError\u001b[0m                                 Traceback (most recent call last)",
      "Cell \u001b[0;32mIn[3], line 12\u001b[0m\n\u001b[1;32m     10\u001b[0m c \u001b[38;5;241m=\u001b[39m test_scope(b)\n\u001b[1;32m     11\u001b[0m \u001b[38;5;28mprint\u001b[39m (\u001b[38;5;124m\"\u001b[39m\u001b[38;5;124mc = \u001b[39m\u001b[38;5;132;01m%i\u001b[39;00m\u001b[38;5;124m\"\u001b[39m\u001b[38;5;241m%\u001b[39mc)\n\u001b[0;32m---> 12\u001b[0m \u001b[38;5;28mprint\u001b[39m (\u001b[38;5;124m\"\u001b[39m\u001b[38;5;124md = \u001b[39m\u001b[38;5;132;01m%i\u001b[39;00m\u001b[38;5;124m\"\u001b[39m\u001b[38;5;241m%\u001b[39m\u001b[43md\u001b[49m)\n",
      "\u001b[0;31mNameError\u001b[0m: name 'd' is not defined"
     ]
    }
   ],
   "source": [
    "def test_scope(val):\n",
    "    print (\"a = %i\"%a)\n",
    "    print (\"b = %i\"%val)\n",
    "    c = a + val\n",
    "    d = a - val\n",
    "    return  c\n",
    "\n",
    "a = 10\n",
    "b = 20\n",
    "c = test_scope(b)\n",
    "print (\"c = %i\"%c)\n",
    "print (\"d = %i\"%d)"
   ]
  },
  {
   "cell_type": "markdown",
   "id": "6849f7dc",
   "metadata": {},
   "source": [
    "Let's analyze what just happened. First, we are defining a function, \n",
    "`test_scope()` that takes an argument called `val`. Then, in the main\n",
    "piece of code, we are defining three variables `a`, `b` and `c`. \n",
    "The first variable `a` is known to the function, even if it is not passed \n",
    "as an argument explicitly. Because it is in the main code, its scope is\n",
    "global. The second variable `b` is passed to the function\n",
    "but named as `val` internally (the function would still know who is `b`).\n",
    "Finally, `c` is returned by the function as the sum of the other\n",
    "two variables. However, when trying to print the other variable calculated\n",
    "by the function (`d = a - val`), we are getting a `NameError`. Because\n",
    "`d` is local in scope, it is not part of the **namespace** known to the main\n",
    "code.\n",
    "\n",
    "```{hint}\n",
    "In Python, it's important to use the `global` keyword if you want to\n",
    " modify a global variable from within a function. Otherwise, \n",
    "Python will treat it as a new local variable within that function.\n",
    "```\n",
    "\n",
    "```{exercise}\n",
    ":nonumber:\n",
    ":class: dropdown\n",
    "\n",
    "Write a Python program with a global variable and a function that attempts \n",
    "to modify it without the global keyword. Then, demonstrate the use of the \n",
    "global keyword in a separate function to successfully modify the global \n",
    "variable.\n",
    "```\n",
    "\n",
    "## Types of arguments\n",
    "So far we have used arguments in the simplest of ways, by passing\n",
    "variable names inside the parenthesis. There\n",
    "can be *functions without arguments*, in which case the function\n",
    "call would be done with an empty parenthesis."
   ]
  },
  {
   "cell_type": "code",
   "execution_count": 4,
   "id": "b7e2fa71",
   "metadata": {},
   "outputs": [
    {
     "name": "stdout",
     "output_type": "stream",
     "text": [
      "Hello!\n"
     ]
    }
   ],
   "source": [
    "def say_hello():\n",
    "    print ('Hello!')\n",
    "    \n",
    "say_hello()"
   ]
  },
  {
   "cell_type": "markdown",
   "id": "b67a2daa",
   "metadata": {},
   "source": [
    "Also, arguments can\n",
    "be of different types. Check the following example"
   ]
  },
  {
   "cell_type": "code",
   "execution_count": 5,
   "id": "6eefa5eb",
   "metadata": {},
   "outputs": [
    {
     "name": "stdout",
     "output_type": "stream",
     "text": [
      "8\n"
     ]
    }
   ],
   "source": [
    "def power_of_n(x,n):\n",
    "    return x**n\n",
    "    \n",
    "print (power_of_n(2, 3))"
   ]
  },
  {
   "cell_type": "markdown",
   "id": "8f88fa6a",
   "metadata": {},
   "source": [
    "Here, both arguments `x` and `n` must be \n",
    "passed in all function calls. Failure to state a value for one of them\n",
    "argument would return a `SyntaxError`.\n",
    "\n",
    "However, we can write a function in a different way, if, for example,\n",
    "one of the arguments has a typical value"
   ]
  },
  {
   "cell_type": "code",
   "execution_count": 6,
   "id": "f0e442ee",
   "metadata": {},
   "outputs": [
    {
     "name": "stdout",
     "output_type": "stream",
     "text": [
      "n = 2 (default); result = 4\n",
      "n = 3 (non-default); result = 8\n"
     ]
    }
   ],
   "source": [
    "def power(x, n=2):\n",
    "    return x**n\n",
    "    \n",
    "print (\"n = 2 (default); result = %i\"%power(2))\n",
    "print (\"n = 3 (non-default); result = %i\"%power(2,3))"
   ]
  },
  {
   "cell_type": "markdown",
   "id": "166c875a",
   "metadata": {},
   "source": [
    "In this case, the function has a different behaviour for \n",
    "the argument `n`, which has a default value of 2\n",
    "if it is not explicitly defined. \n",
    "\n",
    "In the last function above, `n` is a **keyword argument**,\n",
    "because it has a name. When using keyword arguments, you\n",
    "do not have to remember the order we call them.\n",
    "For example"
   ]
  },
  {
   "cell_type": "code",
   "execution_count": 7,
   "id": "f1fd07cc",
   "metadata": {},
   "outputs": [
    {
     "name": "stdout",
     "output_type": "stream",
     "text": [
      "8\n",
      "8\n"
     ]
    }
   ],
   "source": [
    "def power(x=None, n=2):\n",
    "    return x**n\n",
    "    \n",
    "print (power(x=2, n=3))\n",
    "print (power(n=3, x=2))"
   ]
  },
  {
   "cell_type": "markdown",
   "id": "64922551",
   "metadata": {},
   "source": [
    "When functions can accept an **arbitrary number of arguments**, you\n",
    "can mark them with an asterisk `*`. For example, to sum\n",
    "of numbers, irrespective of how many there are, you could write"
   ]
  },
  {
   "cell_type": "code",
   "execution_count": 8,
   "id": "fff48dbf",
   "metadata": {},
   "outputs": [
    {
     "name": "stdout",
     "output_type": "stream",
     "text": [
      "3\n",
      "6\n"
     ]
    }
   ],
   "source": [
    "def sum_args(*args):\n",
    "    result = 0\n",
    "    for v in args:\n",
    "        result += v\n",
    "    return result\n",
    "    \n",
    "print (sum_args(1, 2))\n",
    "print (sum_args(1, 2, 3))"
   ]
  },
  {
   "cell_type": "markdown",
   "id": "99c4416b",
   "metadata": {},
   "source": [
    "Additionally, we may want to have an arbitrary number of keyword\n",
    "arguments. In this case, you invoke the function using two\n",
    "asterisks `**` instead of just one and call your function using\n",
    "```python\n",
    "def my_fun(*args, **kwargs):\n",
    "    for i in args:\n",
    "        # do something\n",
    "        ...\n",
    "    for k, v in kwargs.items():\n",
    "        # do something else\n",
    "        ...\n",
    "```\n",
    "You see that the `kwargs` are being unwrapped like a **dictionary**.\n",
    "\n",
    "```{exercise}\n",
    ":nonumber:\n",
    ":class: dropdown\n",
    "\n",
    "Create a Python program with a function that uses arguments,\n",
    "default arguments and keyword arguments to calculate \n",
    "the area of a square or a rectangle.\n",
    "```\n",
    "\n",
    "## Anonymous functions\n",
    "In Python there is an alternative way of defining functions that\n",
    "does not require the syntax we have used so far (with a `def` \n",
    "statement). You can instead use a `lambda` statement and use\n",
    "a following syntax:\n",
    "```python\n",
    "my_function = lambda arg, [arg2, [arg3, ...]]: expression\n",
    "```\n",
    "An example of this type of function to calculate powers would be"
   ]
  },
  {
   "cell_type": "code",
   "execution_count": 9,
   "id": "f90fe284",
   "metadata": {},
   "outputs": [
    {
     "name": "stdout",
     "output_type": "stream",
     "text": [
      "8\n"
     ]
    }
   ],
   "source": [
    "power = lambda x,y: x**y\n",
    "print (power(2,3))"
   ]
  },
  {
   "cell_type": "markdown",
   "id": "1a74f09f",
   "metadata": {},
   "source": [
    "You see that we have compressed into a single line what we were doing \n",
    "before using a few more. As you probably guessed, anonymous functions\n",
    "are particularly useful as one-liners, but may become cumbersome\n",
    "to use for more sophisticated actions.\n",
    "\n",
    "```{exercise}\n",
    ":nonumber:\n",
    ":class: dropdown\n",
    "\n",
    "Write a one-liner Python program using an anonymous function to concatenate two strings.\n",
    "\n",
    "```\n",
    "\n",
    "## Documenting functions\n",
    "An important detail that we have left to the side so far is the need\n",
    "to write documentation for your functions. In Python, function\n",
    "(and module, and class) documentation comes in the form of **docstrings**. \n",
    "As you may expect, there are detailed recommendations on how to write\n",
    "docstrings. You can find them in [PEP 257](https://peps.python.org/pep-0257/).\n",
    "One of them is that we use triple quotes (`\"\"\"`) to write docstrings.\n",
    "\n",
    "In summary, if we stick to functions for now, docstrings can consist on \n",
    "a **single line** --these are typical for very obvious actions--.\n",
    "```python\n",
    "def print_dog():\n",
    "    \"\"\" Prints man's best friend \"\"\"\n",
    "    print (\"dog\")\n",
    "```\n",
    "Or, they can be longer, if there is need for greater detail. Typically,\n",
    "**multi-line docstrings** start with a summary line, which is followed\n",
    "by a blank line, and then the rest of the required documentation.\n",
    "This often includes a description of the function arguments and returns.\n",
    "Here is an example that we borrow from PEP 257\n",
    "```python\n",
    "def complex(real=0.0, imag=0.0):\n",
    "    \"\"\"Form a complex number.\n",
    "\n",
    "    Keyword arguments:\n",
    "    real -- the real part (default 0.0)\n",
    "    imag -- the imaginary part (default 0.0)\n",
    "    \"\"\"\n",
    "    if imag == 0.0 and real == 0.0:\n",
    "        return complex_zero\n",
    "    ...\n",
    "```\n",
    "\n",
    "Above, we saw that functions are objects too, hence having attributes.\n",
    "The documentation becomes one of the function attributes, called\n",
    "`__doc__`. For example, you can do the following"
   ]
  },
  {
   "cell_type": "code",
   "execution_count": 10,
   "id": "377a5005",
   "metadata": {},
   "outputs": [
    {
     "name": "stdout",
     "output_type": "stream",
     "text": [
      "Prompts user for name \n"
     ]
    }
   ],
   "source": [
    "def tell_me_your_name(*args):\n",
    "    \"\"\"Prompts user for name \"\"\"\n",
    "    print (\"What's your name?\")\n",
    "    \n",
    "print (tell_me_your_name.__doc__)"
   ]
  },
  {
   "cell_type": "markdown",
   "id": "9125ff2d",
   "metadata": {},
   "source": [
    "## Recursion\n",
    "Recursion is a powerful technique in Python where a function calls itself\n",
    " to solve a problem. When using recursion, we typically consider a **base \n",
    "case** that stops recursion. Without it, you risk running into endless loops\n",
    "(technically termed, \"stack overflow\"). Additionally, you will have to write\n",
    "a **recursive case**, where the function calls itself with modified data. \n",
    "In this way, we are able to tackle complex problems by breaking them into\n",
    " smaller, more manageable pieces. Recursion uses a call stack to keep track \n",
    "of function calls. The stack unwinds as the base case is reached, combining \n",
    "results from all the recursive calls.\n",
    "\n",
    "```{hint}\n",
    "Be careful to design your recursive functions so they move toward the base \n",
    "case; otherwise, you might end up with infinite recursion errors.\n",
    "```\n",
    "\n",
    "You'll often use recursion to solve problems involving repetitive \n",
    "subproblems, like computing factorials, Fibonacci sequences, and tree traversal.\n",
    "Below is an example of a factorial calculation\n",
    "\n",
    "```python\n",
    "def factorial(n):\n",
    "    # Base case\n",
    "    if n == 0:\n",
    "        return 1\n",
    "    # Recursive case\n",
    "    else:\n",
    "        return n * factorial(n - 1)\n",
    "\n",
    "```\n",
    "\n",
    "```{exercise}\n",
    ":nonumber:\n",
    ":class: dropdown\n",
    "\n",
    "Write a Python function to calculate the n-th term of the Fibonacci sequence \n",
    "using recursion.\n",
    "\n",
    "![fibonacci](https://upload.wikimedia.org/wikipedia/commons/b/b9/Fibonacci_Spiral.svg)\n",
    "```"
   ]
  }
 ],
 "metadata": {
  "jupytext": {
   "text_representation": {
    "extension": ".md",
    "format_name": "myst"
   }
  },
  "kernelspec": {
   "display_name": "Python 3",
   "language": "python",
   "name": "python3"
  },
  "language_info": {
   "codemirror_mode": {
    "name": "ipython",
    "version": 3
   },
   "file_extension": ".py",
   "mimetype": "text/x-python",
   "name": "python",
   "nbconvert_exporter": "python",
   "pygments_lexer": "ipython3",
   "version": "3.8.20"
  },
  "source_map": [
   10,
   32,
   34,
   78,
   86,
   118,
   131,
   166,
   171,
   175,
   180,
   187,
   193,
   202,
   208,
   213,
   222,
   256,
   259,
   309,
   315
  ]
 },
 "nbformat": 4,
 "nbformat_minor": 5
}