{
 "cells": [
  {
   "cell_type": "markdown",
   "id": "491f574e",
   "metadata": {},
   "source": [
    "# Numpy\n",
    "\n",
    "NumPy, which stands for **Numerical Python**, is a *package for\n",
    "numerical computing in Python*. It is a library that provides support for **arrays**\n",
    "(including multidimensional arrays), as well as various of mathematical\n",
    "functions to operate on these arrays. With NumPy, scientific and mathematical\n",
    "computations are simpler and faster.\n",
    "\n",
    "One of the key advantages of NumPy is its efficiency. *Under the hood, it uses\n",
    "optimized C and Fortran libraries*, making it much faster than pure Python\n",
    "code for numerical operations. This speed enables quicker data analysis,\n",
    "scientific computations, and other specialized tasks that involve numbers, \n",
    "arrays, or matrices.\n",
    "\n",
    "Another benefit is its ease of use. Even though it’s a powerful tool,\n",
    "NumPy’s syntax is designed to be straightforward and similar to native Python,\n",
    "making it easy to learn and implement. NumPy also offers a robust set of \n",
    "functions to perform statistical analysis, linear algebra, Fourier transforms, \n",
    "and more. This makes it a versatile tool that can handle a wide variety of \n",
    "mathematical tasks, from simple calculations to complex scientific research. \n",
    "\n",
    "Because of its extensive utility, NumPy forms the base for other scientific \n",
    "libraries in Python. Moreover, the syntax of many machine learning libraries, \n",
    "like PyTorch and JAX is based on numpy. So, once you know NumPy it will be very \n",
    "easy to learn how to use these libraries as well.\n",
    "\n",
    "## The basics\n",
    "\n",
    "As any other library, NumPy has to be installed first. Since we are using\n",
    "conda, it is as simple as:\n",
    "\n",
    "```bash\n",
    "conda install numpy\n",
    "```\n",
    "Now we can import it as:"
   ]
  },
  {
   "cell_type": "code",
   "execution_count": 1,
   "id": "6dd30c0a",
   "metadata": {},
   "outputs": [],
   "source": [
    "import numpy as np"
   ]
  },
  {
   "cell_type": "markdown",
   "id": "3241808d",
   "metadata": {},
   "source": [
    "The convention is to import numpy as `np`.\n",
    "Now we can define our first NumPy array. This can be done in various ways:"
   ]
  },
  {
   "cell_type": "code",
   "execution_count": 2,
   "id": "3f99d0e9",
   "metadata": {},
   "outputs": [
    {
     "name": "stdout",
     "output_type": "stream",
     "text": [
      "From list:  [1 2 3 4 5]\n",
      "From tuple:  [1 2 3 4 5]\n",
      "Using arange:  [0 1 2 3 4]\n"
     ]
    }
   ],
   "source": [
    "# From a Python list\n",
    "arr_1d = np.array([1, 2, 3, 4, 5])\n",
    "print(\"From list: \", arr_1d)\n",
    "\n",
    "# From a Python tuple\n",
    "arr_tuple = np.array((1, 2, 3, 4, 5))\n",
    "print(\"From tuple: \", arr_tuple)\n",
    "\n",
    "# Using arange function to create an array from 0 to 4\n",
    "arr_arange = np.arange(5)\n",
    "print(\"Using arange: \", arr_arange)"
   ]
  },
  {
   "cell_type": "markdown",
   "id": "5ab28390",
   "metadata": {},
   "source": [
    "Numpy arrays behave similar to python lists - you can slice them, access \n",
    "elements, use in for loops and list comprehensions etc.:"
   ]
  },
  {
   "cell_type": "code",
   "execution_count": 3,
   "id": "ee9f548b",
   "metadata": {},
   "outputs": [
    {
     "name": "stdout",
     "output_type": "stream",
     "text": [
      "NumPy array slice: [1 2 3 4]\n",
      "NumPy array element at index 2: 2\n",
      "Iterating through NumPy array:\n",
      "0 1 2 3 4 5 \n",
      "NumPy array squared: [ 0  1  4  9 16 25]\n"
     ]
    }
   ],
   "source": [
    "# Creating a NumPy array\n",
    "arr = np.array([0, 1, 2, 3, 4, 5])\n",
    "\n",
    "# Slicing: Get elements from index 1 to 4\n",
    "arr_slice = arr[1:5]\n",
    "print(\"NumPy array slice:\", arr_slice)\n",
    "\n",
    "# Accessing elements: Get the element at index 2\n",
    "arr_element = arr[2]\n",
    "print(\"NumPy array element at index 2:\", arr_element)\n",
    "\n",
    "# Using in for loops\n",
    "print(\"Iterating through NumPy array:\")\n",
    "for item in arr:\n",
    "    print(item, end=' ')\n",
    "\n",
    "# Using list comprehensions\n",
    "arr_squared = np.array([x**2 for x in arr])\n",
    "print(\"\\nNumPy array squared:\", arr_squared)"
   ]
  },
  {
   "cell_type": "markdown",
   "id": "09ec459f",
   "metadata": {},
   "source": [
    "However, there are \n",
    "important differences:\n",
    "\n",
    "- Although you can have lists of lists in Python, Numpy\n",
    "allows you to create true multi-dimensional arrays.\n",
    "\n",
    "- Numpy provides a host of built-in functions for operations\n",
    "like addition, subtraction, multiplication, and much more. Python lists don't\n",
    "offer this feature.\n",
    "\n",
    "- Numpy arrays are more memory-efficient and faster for numerical\n",
    "operations compared to Python lists.\n",
    "\n",
    "- To use the operations mentioned above, all elements in the  arrays must be of \n",
    "the same type, unlike Python lists.\n",
    "\n",
    "Let's go through all those differences step by step.\n",
    "\n",
    "```{exercise}\n",
    ":nonumber:\n",
    ":class: dropdown\n",
    "\n",
    "Create a NumPy array called `my_array` containing the numbers from 1 to 10. \n",
    "Then, print the elements in reverse order (from 10 down to 1).\n",
    "\n",
    "Hint: You can use slicing to reverse the array.\n",
    "```\n",
    "\n",
    "## Multidimensional numpy arrays\n",
    "\n",
    "First let's see how to create a 2D array:"
   ]
  },
  {
   "cell_type": "code",
   "execution_count": 4,
   "id": "4c14b78f",
   "metadata": {},
   "outputs": [
    {
     "name": "stdout",
     "output_type": "stream",
     "text": [
      "[[1 2 3]\n",
      " [4 5 6]\n",
      " [7 8 9]]\n"
     ]
    }
   ],
   "source": [
    "# Create a 2D array (3 rows x 3 columns)\n",
    "two_d_array = np.array([[1, 2, 3], [4, 5, 6], [7, 8, 9]])\n",
    "print(two_d_array)"
   ]
  },
  {
   "cell_type": "markdown",
   "id": "92ac402d",
   "metadata": {},
   "source": [
    "NumPy 2D array can be treated the same way as Python list of lists. For example,\n",
    "to get the first row of the array:"
   ]
  },
  {
   "cell_type": "code",
   "execution_count": 5,
   "id": "91b773c9",
   "metadata": {},
   "outputs": [
    {
     "name": "stdout",
     "output_type": "stream",
     "text": [
      "[1 2 3]\n"
     ]
    }
   ],
   "source": [
    "first_row = two_d_array[0]\n",
    "print(first_row)"
   ]
  },
  {
   "cell_type": "markdown",
   "id": "0d7a0ed7",
   "metadata": {},
   "source": [
    "And to access the second element of the first row:"
   ]
  },
  {
   "cell_type": "code",
   "execution_count": 6,
   "id": "51fc6e47",
   "metadata": {},
   "outputs": [
    {
     "name": "stdout",
     "output_type": "stream",
     "text": [
      "2\n"
     ]
    }
   ],
   "source": [
    "element = two_d_array[0][1]\n",
    "print(element)"
   ]
  },
  {
   "cell_type": "markdown",
   "id": "a9dec7a7",
   "metadata": {},
   "source": [
    "However, NumPy provides a much more powerful syntax for multidimensional array\n",
    "slicing. It generally follows the format \n",
    "`[row_start:row_end, col_start:col_end]`. Below are various examples to \n",
    "demonstrate slicing operations on a 2D NumPy array:"
   ]
  },
  {
   "cell_type": "code",
   "execution_count": 7,
   "id": "1a94077d",
   "metadata": {},
   "outputs": [
    {
     "name": "stdout",
     "output_type": "stream",
     "text": [
      "Single element: 2\n",
      "First column: [1 4 7]\n",
      "Sub-matrix (first two rows and columns):\n",
      "[[1 2]\n",
      " [4 5]]\n"
     ]
    }
   ],
   "source": [
    "element = two_d_array[0, 1]\n",
    "print(\"Single element:\", element)\n",
    "\n",
    "first_column = two_d_array[:, 0]\n",
    "print(\"First column:\", first_column)\n",
    "\n",
    "sub_matrix = two_d_array[0:2, 0:2]\n",
    "print(\"Sub-matrix (first two rows and columns):\")\n",
    "print(sub_matrix)"
   ]
  },
  {
   "cell_type": "markdown",
   "id": "a9bb6392",
   "metadata": {},
   "source": [
    "```{exercise}\n",
    ":nonumber:\n",
    ":class: dropdown\n",
    "\n",
    "Create a 5x5 NumPy array called `matrix` with random values. Then extract the \n",
    "first three elements of the second column of the matrix and print them.\n",
    "\n",
    "Hint: use `np.random.rand` to generate a random matrix\n",
    "```\n",
    "\n",
    "### Reshaping arrays\n",
    "\n",
    "NumPy arrays can be reshaped into different shapes using the `reshape` method, \n",
    "which takes the new shape as argument.\n",
    "Imagine you have a 1D array with 4 elements and you want to reshape it into a\n",
    "2x2 2D array. You can do this as follows:"
   ]
  },
  {
   "cell_type": "code",
   "execution_count": 8,
   "id": "04283923",
   "metadata": {},
   "outputs": [
    {
     "name": "stdout",
     "output_type": "stream",
     "text": [
      "[[1 2]\n",
      " [3 4]]\n"
     ]
    }
   ],
   "source": [
    "a = np.array([1, 2, 3, 4])\n",
    "\n",
    "# Reshape the array into a 2x2 matrix\n",
    "b = a.reshape(2, 2)\n",
    "print(b)"
   ]
  },
  {
   "cell_type": "markdown",
   "id": "ae4afbda",
   "metadata": {},
   "source": [
    "```{hint}\n",
    "Many array methods, as `reshape`, are also available as functions in the numpy\n",
    "module. For example, `np.reshape(a, (2, 2))` is equivalent to `a.reshape(2, 2)`.\n",
    "```\n",
    "\n",
    "The order of the elements in the reshaped array is by default first filling \n",
    "by row, as shown in the example above. Such a behaviour can be tuned\n",
    "however with the `order` argument of the `reshape` method. The two possible\n",
    "values are `order=C` (default) and `order=F` (for Fortran-like order), which\n",
    "fill the reshaped array by column.\n",
    "\n",
    "It is also possible to reshape a multidimensional array into a 1D array. In the\n",
    "above example, we can reshape the 2x2 array `b` back into a 1D array with \n",
    "`b.reshape(4)`. Alternatively, you can use the `flatten` method to achieve the\n",
    "same result.\n",
    "\n",
    "```{exercise}\n",
    ":nonumber:\n",
    ":class: dropdown\n",
    "\n",
    "Given the following vector containing the X,Y, and Z atomic coordinates of a water molecule:\n",
    "\n",
    "`-2.34   2.71  0.00  -1.43  2.71  0.00  -2.71  3.58  0.28` \n",
    "\n",
    "Reshape it to a 3x3 matrix, containing the X, Y, and Z coordinates of each atom \n",
    "on each row.\n",
    "```\n",
    "\n",
    "## NumPy array built-in properties and functions\n",
    "There are multiple properties on NumPy arrays that are not available for \n",
    "Python lists. For example:\n",
    "\n",
    "- Shape: Tells us the shape of the array. A 2x3 array will have a shape of (2, 3)."
   ]
  },
  {
   "cell_type": "code",
   "execution_count": 9,
   "id": "f10175ba",
   "metadata": {},
   "outputs": [
    {
     "name": "stdout",
     "output_type": "stream",
     "text": [
      "(3, 3)\n"
     ]
    }
   ],
   "source": [
    "print(two_d_array.shape)"
   ]
  },
  {
   "cell_type": "markdown",
   "id": "9fe671af",
   "metadata": {},
   "source": [
    "- Size: Gives us the total number of elements in the array."
   ]
  },
  {
   "cell_type": "code",
   "execution_count": 10,
   "id": "14b7f95e",
   "metadata": {},
   "outputs": [
    {
     "name": "stdout",
     "output_type": "stream",
     "text": [
      "9\n"
     ]
    }
   ],
   "source": [
    "print(two_d_array.size)"
   ]
  },
  {
   "cell_type": "markdown",
   "id": "7695b5eb",
   "metadata": {},
   "source": [
    "- Dimensions: Tells us how many dimensions the array has."
   ]
  },
  {
   "cell_type": "code",
   "execution_count": 11,
   "id": "3b17ebfd",
   "metadata": {},
   "outputs": [
    {
     "name": "stdout",
     "output_type": "stream",
     "text": [
      "2\n"
     ]
    }
   ],
   "source": [
    "print(two_d_array.ndim)"
   ]
  },
  {
   "cell_type": "markdown",
   "id": "f3692338",
   "metadata": {},
   "source": [
    "- Data Type: Shows the type of data stored in the array."
   ]
  },
  {
   "cell_type": "code",
   "execution_count": 12,
   "id": "6d4a3657",
   "metadata": {},
   "outputs": [
    {
     "name": "stdout",
     "output_type": "stream",
     "text": [
      "int64\n"
     ]
    }
   ],
   "source": [
    "print(two_d_array.dtype)"
   ]
  },
  {
   "cell_type": "markdown",
   "id": "cefdabde",
   "metadata": {},
   "source": [
    "Another important feature of NumPy arrays not available for Python lists is that\n",
    "you can perform element-wise mathematical operations with them:"
   ]
  },
  {
   "cell_type": "code",
   "execution_count": 13,
   "id": "d3ebe9fa",
   "metadata": {},
   "outputs": [
    {
     "name": "stdout",
     "output_type": "stream",
     "text": [
      "Addition:  [5 7 9]\n",
      "Subtraction:  [-3 -3 -3]\n",
      "Multiplication:  [ 4 10 18]\n",
      "Division:  [0.25 0.4  0.5 ]\n",
      "Square:  [1 4 9]\n"
     ]
    }
   ],
   "source": [
    "a = np.array([1, 2, 3])\n",
    "b = np.array([4, 5, 6])\n",
    "\n",
    "print(\"Addition: \", a + b)\n",
    "print(\"Subtraction: \", a - b)\n",
    "print(\"Multiplication: \", a * b)\n",
    "print(\"Division: \", a / b)\n",
    "print(\"Square: \", a ** 2)"
   ]
  },
  {
   "cell_type": "markdown",
   "id": "fb34f090",
   "metadata": {},
   "source": [
    "It is also possible to add (subtract, divide etc.) scalar value to all the \n",
    "elements of the array:"
   ]
  },
  {
   "cell_type": "code",
   "execution_count": 14,
   "id": "3f167376",
   "metadata": {},
   "outputs": [
    {
     "name": "stdout",
     "output_type": "stream",
     "text": [
      "[11 12 13]\n"
     ]
    }
   ],
   "source": [
    "a = np.array([1, 2, 3])\n",
    "print(a + 10)"
   ]
  },
  {
   "cell_type": "markdown",
   "id": "0f99c510",
   "metadata": {},
   "source": [
    "Another operation that is defined for NumPy arrays is `@` which works as a dot \n",
    "product for 1D arrays (vectors) and as a matrix product for 2D arrays \n",
    "(matrices):"
   ]
  },
  {
   "cell_type": "code",
   "execution_count": 15,
   "id": "31123a80",
   "metadata": {},
   "outputs": [
    {
     "name": "stdout",
     "output_type": "stream",
     "text": [
      "vector vector 5\n",
      "matrix vector:  [1 4]\n",
      "matrix matrix: \n",
      "[[1 0]\n",
      " [0 4]]\n"
     ]
    }
   ],
   "source": [
    "vector = np.array([1, 2])\n",
    "matrix = np.array([[1, 0], [0, 2]])\n",
    "\n",
    "print(\"vector vector\", vector @ vector)\n",
    "print(\"matrix vector: \", matrix @ vector)\n",
    "print(\"matrix matrix: \")\n",
    "print(matrix @ matrix)"
   ]
  },
  {
   "cell_type": "markdown",
   "id": "99e30f94",
   "metadata": {},
   "source": [
    "A NumPy array can be converted to an array with another shape, but\n",
    "the same size (number of elements) by the reshape method:"
   ]
  },
  {
   "cell_type": "code",
   "execution_count": 16,
   "id": "f2fd9517",
   "metadata": {},
   "outputs": [
    {
     "name": "stdout",
     "output_type": "stream",
     "text": [
      "[[0 1 2]\n",
      " [3 4 5]\n",
      " [6 7 8]]\n"
     ]
    }
   ],
   "source": [
    "print(np.arange(9).reshape(3, 3))"
   ]
  },
  {
   "cell_type": "markdown",
   "id": "80652029",
   "metadata": {},
   "source": [
    "The arguments to the reshape method are the number of elements along the each \n",
    "new dimension. Since the total number of elements is defined by the original\n",
    "array, number of elements along one of the dimensions can be inferred \n",
    "automatically by providing value of -1:"
   ]
  },
  {
   "cell_type": "code",
   "execution_count": 17,
   "id": "a3d369a4",
   "metadata": {},
   "outputs": [
    {
     "name": "stdout",
     "output_type": "stream",
     "text": [
      "[[0 1 2]\n",
      " [3 4 5]\n",
      " [6 7 8]]\n"
     ]
    }
   ],
   "source": [
    "print(np.arange(9).reshape(3, -1))"
   ]
  },
  {
   "cell_type": "markdown",
   "id": "ba55cea1",
   "metadata": {},
   "source": [
    "Finally, in NumPy you can easily do operations such as calculating maximum value\n",
    "in the array or getting the sum of all values. These are called \"aggregation\n",
    "operations\":"
   ]
  },
  {
   "cell_type": "code",
   "execution_count": 18,
   "id": "41bfca9c",
   "metadata": {},
   "outputs": [
    {
     "name": "stdout",
     "output_type": "stream",
     "text": [
      "Maximum:  8\n",
      "Minimum:  0\n",
      "Sum:  36\n",
      "Mean:  4.0\n"
     ]
    }
   ],
   "source": [
    "a = np.arange(9)\n",
    "\n",
    "print(\"Maximum: \", np.max(a))\n",
    "print(\"Minimum: \", np.min(a))\n",
    "print(\"Sum: \", np.sum(a))\n",
    "print(\"Mean: \", np.mean(a))"
   ]
  },
  {
   "cell_type": "markdown",
   "id": "83191f76",
   "metadata": {},
   "source": [
    "```{exercise}\n",
    ":nonumber:\n",
    ":class: dropdown\n",
    "\n",
    "Calculate the average of all integers less than 100 divisible by 8. \n",
    "```\n",
    "\n",
    "## Performance\n",
    "Now that we know the basics of NumPy arrays and what operations can be \n",
    "performed on them, let's see how NumPy compares to Python lists in \n",
    "terms of performance. For that we will be using `timeit` module from Python\n",
    "standard library (so no new package has to be installed)."
   ]
  },
  {
   "cell_type": "code",
   "execution_count": 19,
   "id": "2141349b",
   "metadata": {},
   "outputs": [
    {
     "name": "stdout",
     "output_type": "stream",
     "text": [
      "Python list:  0.25767604899999696\n",
      "NumPy array:  0.006734270999999126\n"
     ]
    }
   ],
   "source": [
    "import timeit\n",
    "import numpy as np\n",
    "\n",
    "def sum_of_squares_python_list():\n",
    "    python_list = list(range(100000))\n",
    "    return sum(item ** 2 for item in python_list) \n",
    "    \n",
    "def sum_of_squares_numpy_array():\n",
    "    numpy_array = np.arange(100000)\n",
    "    return np.sum(numpy_array ** 2)\n",
    "    \n",
    "# Time the execution\n",
    "python_time = timeit.timeit(sum_of_squares_python_list, number=10)\n",
    "numpy_time = timeit.timeit(sum_of_squares_numpy_array, number=10)\n",
    "\n",
    "print(\"Python list: \", python_time)\n",
    "print(\"NumPy array: \", numpy_time)"
   ]
  },
  {
   "cell_type": "markdown",
   "id": "202a1f8c",
   "metadata": {},
   "source": [
    "As you can see, NumPy is about two orders of magnitude faster than pure \n",
    "Python implementation.\n",
    "\n",
    "(broadcasting)=\n",
    "## Broadcasting\n",
    "A very powerful feature of NumPy is array broadcasting. It allows to apply\n",
    "mathematical operations to arrays with different shapes and dimensions. One \n",
    "example of broadcasting we have already seen - adding a scalar to a 1D array.\n",
    "However, it is also possible to add a 1D array to a 2D one:"
   ]
  },
  {
   "cell_type": "code",
   "execution_count": 20,
   "id": "5abad4d5",
   "metadata": {},
   "outputs": [
    {
     "name": "stdout",
     "output_type": "stream",
     "text": [
      "[[2 4]\n",
      " [4 6]\n",
      " [6 8]]\n"
     ]
    }
   ],
   "source": [
    "a = np.array([[1, 2], [3, 4], [5, 6]])\n",
    "b = np.array([1, 2])\n",
    "print(a + b)"
   ]
  },
  {
   "cell_type": "markdown",
   "id": "35ce55da",
   "metadata": {},
   "source": [
    "To use broadcasting, NumPy compares the shapes of the two arrays element-wise, \n",
    "starting with the trailing dimensions and working its way forward. The \n",
    "dimensions are compatible when:\n",
    "- They are equal, or\n",
    "- One of them is 1.\n",
    "\n",
    "For our arrays a and b, their shapes are:\n",
    "\n",
    "- a has shape (3, 2)\n",
    "- b has shape (2,)\n",
    "\n",
    "To compare these shapes for broadcasting, we align them from the last dimension:\n",
    "```\n",
    "    3, 2  (shape of a)\n",
    "       2  (shape of b)\n",
    "```\n",
    "Both dimensions are equal, so they are compatible. If they weren't, you'd have \n",
    "to reshape one of the arrays for broadcasting to work.\n",
    "\n",
    "Broadcasting basically \"stretches\" the smaller array to have the same shape as\n",
    "the larger array. In our case, array b is \"virtually\" replicated along the \n",
    "second dimension to match the shape of array a:\n",
    "\n",
    "```\n",
    "Virtual b after broadcasting = [[1, 2],\n",
    "                                [1, 2],\n",
    "                                [1, 2]]\n",
    "```\n",
    "\n",
    "Note that broadcasting doesn't really replicate the data. It's a\n",
    "\"virtual\" replication for the sake of the computation, making the operation\n",
    "efficient.\n",
    "Now, the addition occurs element-wise:\n",
    "```\n",
    "a = [[1, 2],  virtual_b = [[1, 2],\n",
    "     [3, 4],               [1, 2],\n",
    "     [5, 6]                [1, 2]]\n",
    "\n",
    "c = a + virtual_b\n",
    "\n",
    "  = [[1+1, 2+2],\n",
    "     [3+1, 4+2],\n",
    "     [5+1, 6+2]]\n",
    "     \n",
    "  = [[2, 4],\n",
    "     [4, 6],\n",
    "     [6, 8]]\n",
    "```\n",
    "\n",
    "The result is a 2D array `c` with the same shape `(3, 2)` as `a`, and it \n",
    "contains the sum of the corresponding elements from `a` and the virtually \n",
    "broadcasted `b`.\n",
    "\n",
    "```{exercise}\n",
    ":nonumber:\n",
    ":class: dropdown\n",
    "Create the following matrix using broadcasting:\n",
    "\n",
    "[[0, 1, 2],\n",
    " [0, 1, 2],\n",
    " [0, 1, 2]]\n",
    "\n",
    "Hint: you can create a matrix of zeros with `np.zeros`.\n",
    "```\n",
    "\n",
    "\n",
    "## Matrix Operations and the linalg Module\n",
    "In this section, we'll explore some of the most common matrix operations that\n",
    "NumPy offers. Particularly, we will take a look at some  functions from `linalg`\n",
    "module which provides a wide range of functions for performing linear algebra\n",
    "operations. These operations are essential for various scientific and\n",
    "engineering applications.\n",
    "\n",
    "### Matrix Multiplication\n",
    "Matrix multiplication is a fundamental operation in linear algebra. NumPy makes\n",
    "it easy to multiply matrices using the dot function or the @ operator, as you've\n",
    "seen in the previous section. Let's revisit matrix multiplication with NumPy:"
   ]
  },
  {
   "cell_type": "code",
   "execution_count": 21,
   "id": "ca515c1a",
   "metadata": {},
   "outputs": [
    {
     "name": "stdout",
     "output_type": "stream",
     "text": [
      "Matrix Multiplication using dot:\n",
      " [[19 22]\n",
      " [43 50]]\n",
      "Matrix Multiplication using @ operator:\n",
      " [[19 22]\n",
      " [43 50]]\n"
     ]
    }
   ],
   "source": [
    "# Create two matrices\n",
    "A = np.array([[1, 2], [3, 4]])\n",
    "B = np.array([[5, 6], [7, 8]])\n",
    "result_dot = np.dot(A, B)\n",
    "print(\"Matrix Multiplication using dot:\\n\", result_dot)\n",
    "\n",
    "result_at = A @ B\n",
    "print(\"Matrix Multiplication using @ operator:\\n\", result_at)"
   ]
  },
  {
   "cell_type": "markdown",
   "id": "8c2339e3",
   "metadata": {},
   "source": [
    "Both methods yield the same result, which is the product of matrices A and B.\n",
    "\n",
    "### Matrix Inversion\n",
    "Matrix inversion is another common operation in linear algebra. You can\n",
    "calculate the inverse of a square matrix using NumPy's `inv` function from the\n",
    "`linalg module`. However, not all matrices are invertible, so it's essential to\n",
    "check for invertibility before attempting the inversion.\n",
    "\n",
    "Here's how you can calculate the inverse of a matrix:"
   ]
  },
  {
   "cell_type": "code",
   "execution_count": 22,
   "id": "afcaca64",
   "metadata": {},
   "outputs": [
    {
     "name": "stdout",
     "output_type": "stream",
     "text": [
      "Matrix M1:\n",
      " [[1 2]\n",
      " [3 4]]\n",
      "Inverse of M1:\n",
      " [[-2.   1. ]\n",
      " [ 1.5 -0.5]]\n",
      "Matrix M2 is not invertible.\n",
      "\n"
     ]
    }
   ],
   "source": [
    "def print_inverse(A, name):\n",
    "    try:\n",
    "        A_inv = np.linalg.inv(A)\n",
    "        print(f\"Matrix {name}:\\n\", A)\n",
    "        print(f\"Inverse of {name}:\\n\", A_inv)\n",
    "    except np.linalg.LinAlgError:\n",
    "        print(f\"Matrix {name} is not invertible.\\n\") \n",
    "\n",
    "# Create a square matrix\n",
    "M1 = np.array([[1, 2], [3, 4]])\n",
    "M2 = np.array([[2, 3], [4, 6]])\n",
    "\n",
    "print_inverse(M1, \"M1\")\n",
    "print_inverse(M2, \"M2\")"
   ]
  },
  {
   "cell_type": "markdown",
   "id": "557a2282",
   "metadata": {},
   "source": [
    "Here we first define a function that would print a given matrix and it's\n",
    "inverse. Then, we call this function on two matrices: one that is invertible\n",
    "and one that is not. As yu can see, in the latter case the function informs us\n",
    "that the inverse cannot be taken.\n",
    "\n",
    "### Determinant and Eigenvalues\n",
    "You can compute the determinant of a square matrix and its eigenvalues using\n",
    "NumPy's `det` and `eig` functions. The determinant of a matrix provides valuable\n",
    "information about its properties, and eigenvalues are crucial in various\n",
    "applications, such as solving differential equations and analyzing dynamic\n",
    "systems.\n",
    "\n",
    "Here's how you can calculate the determinant and eigenvalues of a matrix:"
   ]
  },
  {
   "cell_type": "code",
   "execution_count": 23,
   "id": "46e45a59",
   "metadata": {},
   "outputs": [
    {
     "name": "stdout",
     "output_type": "stream",
     "text": [
      "Determinant of D: 5.000000000000001\n",
      "Eigenvalues of D: [1.38196601 3.61803399]\n",
      "Eigenvectors of D:\n",
      " [[-0.85065081 -0.52573111]\n",
      " [ 0.52573111 -0.85065081]]\n"
     ]
    }
   ],
   "source": [
    "# Create a square matrix\n",
    "D = np.array([[2, 1], [1, 3]])\n",
    "\n",
    "# Calculate the determinant\n",
    "det_D = np.linalg.det(D)\n",
    "print(\"Determinant of D:\", det_D)\n",
    "\n",
    "# Calculate eigenvalues and eigenvectors\n",
    "eigenvalues, eigenvectors = np.linalg.eig(D)\n",
    "print(\"Eigenvalues of D:\", eigenvalues)\n",
    "print(\"Eigenvectors of D:\\n\", eigenvectors)"
   ]
  },
  {
   "cell_type": "markdown",
   "id": "4c0fdf7b",
   "metadata": {},
   "source": [
    "### Solving a System of Linear Equations\n",
    "\n",
    "NumPy's `linalg` module also provides a convenient way to solve systems of\n",
    "linear equations of the form `Ax = b`, where `A` is a matrix, `x` is a vector of\n",
    "unknowns, and `b` is a vector of constants. Solving such systems is a common\n",
    "task in various fields, including engineering and physics.\n",
    "\n",
    "Here's an example of how to use `numpy.linalg.solve` to solve a system of linear\n",
    "equations:"
   ]
  },
  {
   "cell_type": "code",
   "execution_count": 24,
   "id": "c0847958",
   "metadata": {},
   "outputs": [
    {
     "name": "stdout",
     "output_type": "stream",
     "text": [
      "Solution x: [1.4 2.2]\n"
     ]
    }
   ],
   "source": [
    "# Define the coefficient matrix A and the constants vector b\n",
    "A = np.array([[2, 1], [1, 3]])\n",
    "b = np.array([5, 8])\n",
    "\n",
    "# Solve the system of linear equations Ax = b\n",
    "x = np.linalg.solve(A, b)\n",
    "\n",
    "print(\"Solution x:\", x)"
   ]
  },
  {
   "cell_type": "markdown",
   "id": "a2aa21b5",
   "metadata": {},
   "source": [
    "In this example, we have a system of two linear equations:\n",
    "\n",
    "```\n",
    "2x + y = 5\n",
    "x + 3y = 8\n",
    "```\n",
    "The `numpy.linalg.solve` function takes the coefficient matrix A and the constants\n",
    "vector b as input and returns the solution vector x. The solution x represents\n",
    "the values of the unknown variables that satisfy all the equations in the\n",
    "system.\n",
    "\n",
    "You can use this method to efficiently solve larger systems of linear equations\n",
    "as well, making it a powerful tool for numerical simulations and data analysis.\n",
    "\n",
    "\n",
    "These are just a few examples of the many linear algebra operations you can\n",
    "perform with NumPy and its `linalg` module. Understanding and utilizing these\n",
    "operations is crucial for a wide range of scientific and engineering tasks.\n",
    "\n",
    "\n",
    "```{exercise}\n",
    ":nonumber:\n",
    ":class: dropdown\n",
    "Create a random 5x5 matrix and show that a product of this matrix with its \n",
    "inverse is an identity matrix.\n",
    "```\n",
    "\n",
    "(numpy.io)=\n",
    "## Input/Output\n",
    "In real applications, you often want to read some numeric data from an external\n",
    "file or write out the results. NumPy provides useful functions to make\n",
    "this process simple.\n",
    "\n",
    "### Reading files with `numpy.loadtxt`\n",
    "\n",
    "Suppose you have a text file called `data.txt` with the following content:\n",
    "```\n",
    "1.0 2.0 3.0\n",
    "4.0 5.0 6.0\n",
    "7.0 8.0 9.0\n",
    "```\n",
    "You can load this data into a NumPy array like this:\n",
    "```python\n",
    "import numpy as np\n",
    "data = np.loadtxt('data.txt')\n",
    "print(data)\n",
    "```\n",
    "\n",
    "```\n",
    "[[1. 2. 3.]\n",
    " [4. 5. 6.]\n",
    " [7. 8. 9.]]\n",
    "```\n",
    "\n",
    "```{hint}\n",
    "Note that when using `loadtxt`, you don't need to care about file objects or\n",
    "opening and closing the file. NumPy takes care of that for you.\n",
    "```\n",
    "\n",
    "Often values in the text files are separated by some delimiter and have some \n",
    "additional information in the first few lines (header):\n",
    "```\n",
    "# This is a header line 1\n",
    "# This is a header line 2\n",
    "1.0,2.0,3.0\n",
    "4.0,5.0,6.0\n",
    "7.0,8.0,9.0\n",
    "```\n",
    "\n",
    "You can skip the header and specify the delimiter like so:\n",
    "```python\n",
    "data = np.loadtxt('data_with_header.txt', skiprows=2, delimiter=',')\n",
    "print(data)\n",
    "```\n",
    "\n",
    "```\n",
    "[[1. 2. 3.]\n",
    " [4. 5. 6.]\n",
    " [7. 8. 9.]]\n",
    "```\n",
    "\n",
    "### Writing files with `numpy.savetxt`\n",
    "To save a NumPy array to a text file, it's quite straightforward. Suppose you \n",
    "have the following NumPy array:\n",
    "\n",
    "```python\n",
    "my_array = np.array([[1, 2, 3], [4, 5, 6], [7, 8, 9]])\n",
    "```\n",
    "\n",
    "You can save it to a file like this:\n",
    "\n",
    "```python\n",
    "np.savetxt('my_array.txt', my_array)\n",
    "```\n",
    "\n",
    "The text file my_array.txt will look like this:\n",
    "\n",
    "```\n",
    "1.000000000000000000e+00 2.000000000000000000e+00 3.000000000000000000e+00\n",
    "4.000000000000000000e+00 5.000000000000000000e+00 6.000000000000000000e+00\n",
    "7.000000000000000000e+00 8.000000000000000000e+00 9.000000000000000000e+00\n",
    "```\n",
    "\n",
    "You can also specify the delimiter, format, and even add a header:\n",
    "```python\n",
    "np.savetxt('my_array_with_header.txt', my_array, delimiter=',', fmt='%d', \n",
    "           header='This is my data')\n",
    "```\n",
    "\n",
    "The text file `my_array_with_header.txt` will have:\n",
    "```\n",
    "# This is my data\n",
    "1,2,3\n",
    "4,5,6\n",
    "7,8,9\n",
    "```\n",
    "\n",
    "```{exercise}\n",
    ":nonumber:\n",
    ":class: dropdown\n",
    "Import `my_array_with_header.txt` from the previous example into a spreadsheet,\n",
    "change the values, save and then read the updated file using `np.loadtxt`. \n",
    "```\n",
    "\n",
    "## NumPy documentation\n",
    "Here we covered only the most essential concepts of NumPy, but there is much \n",
    "more to it. To deepen your understanding and unlock the full power of this \n",
    "incredible library, it is strongly recommended that you take a look at the \n",
    "official NumPy documentation, especially the beginner's guide available at \n",
    "https://numpy.org/doc/stable/user/absolute_beginners.html"
   ]
  }
 ],
 "metadata": {
  "jupytext": {
   "text_representation": {
    "extension": ".md",
    "format_name": "myst"
   }
  },
  "kernelspec": {
   "display_name": "Python 3",
   "language": "python",
   "name": "python3"
  },
  "language_info": {
   "codemirror_mode": {
    "name": "ipython",
    "version": 3
   },
   "file_extension": ".py",
   "mimetype": "text/x-python",
   "name": "python",
   "nbconvert_exporter": "python",
   "pygments_lexer": "ipython3",
   "version": "3.8.20"
  },
  "source_map": [
   10,
   46,
   48,
   52,
   64,
   67,
   87,
   120,
   124,
   127,
   130,
   132,
   135,
   140,
   150,
   168,
   174,
   209,
   211,
   214,
   216,
   219,
   221,
   224,
   226,
   230,
   239,
   243,
   246,
   252,
   260,
   265,
   267,
   274,
   276,
   282,
   289,
   304,
   322,
   333,
   337,
   417,
   426,
   438,
   453,
   468,
   480,
   492,
   501
  ]
 },
 "nbformat": 4,
 "nbformat_minor": 5
}