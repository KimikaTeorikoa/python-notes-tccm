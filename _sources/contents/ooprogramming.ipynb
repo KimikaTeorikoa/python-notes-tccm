{
 "cells": [
  {
   "cell_type": "markdown",
   "id": "d40de673",
   "metadata": {},
   "source": [
    "# Object Oriented Programming \n",
    "For as long as we have been working with Python, we have been using\n",
    "**objects**. In fact, everything in Python is an object, which\n",
    "makes using objects naturally inescapable. Specifically, when we \n",
    "introduced the different types of \n",
    "[variables](fundamentals.md#Data-Types)\n",
    "that we can define, we saw that each of them was associated to \n",
    "specific **methods**, which varied depending of the data type.\n",
    "Here, we will make explicit what we have been using intuitively\n",
    "in previous chapters. We will also introduce **classes**, which \n",
    "are central to object-oriented programming in Python.\n",
    "\n",
    "## Attributes and methods\n",
    "We will start with some definitions.\n",
    "There are two fundamental properties of objects, attributes and methods.\n",
    "**Attributes** are *named elements associated to an object*. \n",
    "The way we invoke them is similar to using variables from a module \n",
    "that we have imported (e.g. `math.pi`). \n",
    "**Methods** are *functions intrinsic to a specific type of object*. \n",
    "For example, list objects have an\n",
    "associated method called `append`:"
   ]
  },
  {
   "cell_type": "code",
   "execution_count": 1,
   "id": "b23e9558",
   "metadata": {},
   "outputs": [
    {
     "name": "stdout",
     "output_type": "stream",
     "text": [
      "['txema', 'david', 'kirill', 'javier']\n"
     ]
    }
   ],
   "source": [
    "s = ['txema', 'david', 'kirill']\n",
    "s.append('javier')\n",
    "print (s)"
   ]
  },
  {
   "cell_type": "markdown",
   "id": "ae28e761",
   "metadata": {},
   "source": [
    "## Classes\n",
    "In addition to the intrinsic types built into Python, we can define\n",
    "our own types of objects that may be useful for our needs. **Classes**\n",
    "are *user-defined types* and their use provides incredibly rich \n",
    "functionality in Python. Because classes carry their own specific\n",
    "attributes and methods, we can use them to conveniently pack a set of data\n",
    "and corresponding functions operating on the data. Most of the time,\n",
    "you can live without classes and simply write code using simpler\n",
    "data structures. But if you start using classes, you will find\n",
    "that they provide an extremely elegant framework to solve problems.\n",
    "\n",
    "### A simple class example\n",
    "We will start defining a simple class that we will call `Cup`. To\n",
    "define the class we will use\n",
    "```python\n",
    "class Cup(object):\n",
    "    \"\"\"Represents a cup someone can drink from\"\"\"\n",
    "```\n",
    "Note that we are using CapWords for class definitions, following\n",
    "[PEP8](https://peps.python.org/pep-0008/#class-names).\n",
    "Cups usually are of some colour and have a volume that can be filled\n",
    "with some liquid. Cups also normally have an owner.\n",
    "These will be the cup attributes and we will assign an initial value \n",
    "to them when the class is initialized. In order to initialize a class,\n",
    "we use the `__init__` method (note the two underscore characters at the\n",
    "beginning and end of `init`)."
   ]
  },
  {
   "cell_type": "code",
   "execution_count": 2,
   "id": "f38be5a0",
   "metadata": {},
   "outputs": [],
   "source": [
    "class Cup(object):\n",
    "    \"\"\"Represents a cup someone can drink from\"\"\"\n",
    "    def __init__(self):\n",
    "        self.volume = 1.\n",
    "        self.owner = 'Jeremy'\n",
    "        self.content = None"
   ]
  },
  {
   "cell_type": "markdown",
   "id": "5d2fda63",
   "metadata": {},
   "source": [
    "In order to create an **instance** of this class, you can do\n",
    "something as simple as"
   ]
  },
  {
   "cell_type": "code",
   "execution_count": 3,
   "id": "664448d3",
   "metadata": {},
   "outputs": [],
   "source": [
    "mycup = Cup()"
   ]
  },
  {
   "cell_type": "markdown",
   "id": "7e22d115",
   "metadata": {},
   "source": [
    "When we instantiate an object, the `__init__` method is invoked\n",
    "and whatever takes place inside will be part of our object.\n",
    "We can pass parameters to the `__init__` method, which normally\n",
    "receive the same names as the attributes of the class. For example,"
   ]
  },
  {
   "cell_type": "code",
   "execution_count": 4,
   "id": "c9b9258e",
   "metadata": {},
   "outputs": [],
   "source": [
    "class Cup(object):\n",
    "    \"\"\"Represents a cup someone can drink from\"\"\"\n",
    "    def __init__(self, volume=1., owner='Jeremy', content=None):\n",
    "        self.volume = volume\n",
    "        self.owner = owner\n",
    "        self.content = content"
   ]
  },
  {
   "cell_type": "markdown",
   "id": "ef20de4d",
   "metadata": {},
   "source": [
    "and in this way we may access the values that are packaged in the\n",
    "class"
   ]
  },
  {
   "cell_type": "code",
   "execution_count": 5,
   "id": "0f0b0bac",
   "metadata": {},
   "outputs": [
    {
     "name": "stdout",
     "output_type": "stream",
     "text": [
      "1.0\n"
     ]
    }
   ],
   "source": [
    "my_bigger_cup = Cup(volume=10)\n",
    "print (mycup.volume)"
   ]
  },
  {
   "cell_type": "markdown",
   "id": "47fff491",
   "metadata": {},
   "source": [
    "This second instance of the class is identical to the first, just\n",
    "with a 10 times bigger volume. But you do not necessarily have to pass\n",
    "values to the attributes, as they have default values.\n",
    "As we have seen, the attributes mutable and can be assigned different \n",
    "values for different instances of the class.\n",
    "\n",
    "There are other special methods like `__init__`, like for example\n",
    "the `__str__` method, which returns a string representation of \n",
    "an object. For example, we could write something like\n",
    "```python\n",
    "    def __str__(self):\n",
    "        if not self.content:\n",
    "            return 'An empty %s unit cup owned by %s'%(self.volume, self.owner)\n",
    "        else:\n",
    "            return 'A %s unit cup owned by %s filled with '%(self.volume, self.owner, self.content)\n",
    "```\n",
    "\n",
    "Additionally, we can\n",
    "include a number of methods in our class. Cups, for example, \n",
    "can be filled with coffee or tea"
   ]
  },
  {
   "cell_type": "code",
   "execution_count": 6,
   "id": "4b9d81f8",
   "metadata": {},
   "outputs": [],
   "source": [
    "class Cup(object):\n",
    "    \"\"\"Represents a cup someone can drink from\"\"\"\n",
    "    def __init__(self, volume=1., owner='Jeremy', content=None):\n",
    "        self.volume = volume\n",
    "        self.owner = owner\n",
    "        self.content = content\n",
    "        \n",
    "    def __str__(self):\n",
    "        if not self.content:\n",
    "            return 'An empty %s unit cup owned by %s'%(self.volume, self.owner)\n",
    "        else:\n",
    "            return 'A %s unit cup owned by %s filled with %s'%(self.volume, self.owner, self.content)\n",
    "        \n",
    "    def fill(self, liquid):\n",
    "        self.content = liquid\n",
    "    \n",
    "    def drink(self):\n",
    "        if not self.content:\n",
    "            print ('You cannot drink from an empty cup')\n",
    "        else:\n",
    "            self.content = None"
   ]
  },
  {
   "cell_type": "markdown",
   "id": "9161e187",
   "metadata": {},
   "source": [
    "This more complete class offers some additional functionality.\n",
    "We can create a new cup, initally empty"
   ]
  },
  {
   "cell_type": "code",
   "execution_count": 7,
   "id": "6a49ebd6",
   "metadata": {},
   "outputs": [
    {
     "name": "stdout",
     "output_type": "stream",
     "text": [
      "An empty 1.0 unit cup owned by Jeremy\n"
     ]
    }
   ],
   "source": [
    "my_new_cup = Cup()\n",
    "print (my_new_cup)"
   ]
  },
  {
   "cell_type": "markdown",
   "id": "96eac9f0",
   "metadata": {},
   "source": [
    "then fill it with coffee"
   ]
  },
  {
   "cell_type": "code",
   "execution_count": 8,
   "id": "98585c9e",
   "metadata": {},
   "outputs": [
    {
     "name": "stdout",
     "output_type": "stream",
     "text": [
      "A 1.0 unit cup owned by Jeremy filled with coffee\n"
     ]
    }
   ],
   "source": [
    "my_new_cup.fill('coffee')\n",
    "print (my_new_cup)"
   ]
  },
  {
   "cell_type": "markdown",
   "id": "2d122fad",
   "metadata": {},
   "source": [
    "and drink from it"
   ]
  },
  {
   "cell_type": "code",
   "execution_count": 9,
   "id": "ff667edf",
   "metadata": {},
   "outputs": [
    {
     "name": "stdout",
     "output_type": "stream",
     "text": [
      "An empty 1.0 unit cup owned by Jeremy\n"
     ]
    }
   ],
   "source": [
    "my_new_cup.drink()\n",
    "print (my_new_cup)"
   ]
  },
  {
   "cell_type": "markdown",
   "id": "6fac517d",
   "metadata": {},
   "source": [
    "Our class of the will complain if we try to empty it again"
   ]
  },
  {
   "cell_type": "code",
   "execution_count": 10,
   "id": "8ded6c33",
   "metadata": {},
   "outputs": [
    {
     "name": "stdout",
     "output_type": "stream",
     "text": [
      "You cannot drink from an empty cup\n"
     ]
    }
   ],
   "source": [
    "my_new_cup.drink()"
   ]
  },
  {
   "cell_type": "markdown",
   "id": "e4b41a3b",
   "metadata": {},
   "source": [
    "## The Call special method \n",
    "Another special method, `__call__`, allows you to write a class\n",
    "and call it like a function. It's a powerful feature that can \n",
    "make instances behave like callable objects.\n",
    "Here's a simple example"
   ]
  },
  {
   "cell_type": "code",
   "execution_count": 11,
   "id": "bbc1cb0d",
   "metadata": {},
   "outputs": [],
   "source": [
    "class Counter(object):\n",
    "    def __init__(self):\n",
    "        self.value = 0\n",
    "    \n",
    "    def increment(self):\n",
    "        self.value += 1\n",
    "    \n",
    "    def __call__(self):\n",
    "        self.increment()\n",
    "        return self.value"
   ]
  },
  {
   "cell_type": "markdown",
   "id": "ce2aa51f",
   "metadata": {},
   "source": [
    "As you see, we have written a `__call__` method that first\n",
    "invokes the `increment` method and then returns a value.\n",
    "Let's see it in action. First we create an instance of\n",
    "the class"
   ]
  },
  {
   "cell_type": "code",
   "execution_count": 12,
   "id": "2f7701be",
   "metadata": {},
   "outputs": [],
   "source": [
    "my_counter = Counter()"
   ]
  },
  {
   "cell_type": "markdown",
   "id": "1a685e73",
   "metadata": {},
   "source": [
    "and then we \"call\" it like a function a number of times"
   ]
  },
  {
   "cell_type": "code",
   "execution_count": 13,
   "id": "8134c9f9",
   "metadata": {},
   "outputs": [
    {
     "name": "stdout",
     "output_type": "stream",
     "text": [
      "1\n",
      "2\n",
      "3\n"
     ]
    }
   ],
   "source": [
    "print(my_counter())\n",
    "print(my_counter())\n",
    "print(my_counter())"
   ]
  },
  {
   "cell_type": "markdown",
   "id": "820e0b6c",
   "metadata": {},
   "source": [
    "If your class represents a mathematical function, then it\n",
    "is good practice to add a `__call__` method to your class.\n",
    "You can check whether an object has a `__call__` method \n",
    "using the build-in function `callable`"
   ]
  },
  {
   "cell_type": "code",
   "execution_count": 14,
   "id": "fd938df7",
   "metadata": {},
   "outputs": [
    {
     "name": "stdout",
     "output_type": "stream",
     "text": [
      "True\n"
     ]
    }
   ],
   "source": [
    "print(callable(my_counter))"
   ]
  },
  {
   "cell_type": "markdown",
   "id": "f8b189bd",
   "metadata": {},
   "source": [
    "There are other special methods like `__init__`,\n",
    "`__str__` or `__call__` but you will learn about them as you need.\n",
    "\n",
    "## Copying instances of classes\n",
    "You can generate as many instances of a class as you need,\n",
    "and you can also **copy** instances of a class, but in the latter\n",
    "case you must be a bit careful. We will illustrate this\n",
    "with an example class called `ItemList`"
   ]
  },
  {
   "cell_type": "code",
   "execution_count": 15,
   "id": "051aa131",
   "metadata": {},
   "outputs": [],
   "source": [
    "class ItemList(object):\n",
    "    def __init__(self, items=[]):\n",
    "        self.items = items\n",
    "    \n",
    "    def add_item(self, item):\n",
    "        self.items.append(item)\n",
    "        \n",
    "    def remove_item(self, item):\n",
    "        if item in self.items:\n",
    "            self.items.remove(item)\n",
    "    \n",
    "    def get_items(self):\n",
    "        return self.items"
   ]
  },
  {
   "cell_type": "markdown",
   "id": "8617c1a3",
   "metadata": {},
   "source": [
    "We will first create an instance of this class and fill it \n",
    "with fruits"
   ]
  },
  {
   "cell_type": "code",
   "execution_count": 16,
   "id": "e2dbdabe",
   "metadata": {},
   "outputs": [
    {
     "data": {
      "text/plain": [
       "[None, None, None]"
      ]
     },
     "execution_count": 16,
     "metadata": {},
     "output_type": "execute_result"
    }
   ],
   "source": [
    "original_list = ItemList()\n",
    "[original_list.add_item(x) for x in [\"Apple\", \"Banana\", \"Orange\"]]"
   ]
  },
  {
   "cell_type": "markdown",
   "id": "8224dd23",
   "metadata": {},
   "source": [
    "Now we may want to make a copy of this list, and add some more stuff"
   ]
  },
  {
   "cell_type": "code",
   "execution_count": 17,
   "id": "c1f5c229",
   "metadata": {},
   "outputs": [],
   "source": [
    "import copy\n",
    "shallow_copy = copy.copy(original_list)\n",
    "shallow_copy.add_item(\"Grapes\")"
   ]
  },
  {
   "cell_type": "markdown",
   "id": "8052775a",
   "metadata": {},
   "source": [
    "However, this operation also unintentionally changes the original list"
   ]
  },
  {
   "cell_type": "code",
   "execution_count": 18,
   "id": "eb6582ea",
   "metadata": {},
   "outputs": [
    {
     "name": "stdout",
     "output_type": "stream",
     "text": [
      "Original List: ['Apple', 'Banana', 'Orange', 'Grapes']\n",
      "Shallow Copy: ['Apple', 'Banana', 'Orange', 'Grapes']\n"
     ]
    }
   ],
   "source": [
    "print(\"Original List:\", original_list.get_items())\n",
    "print(\"Shallow Copy:\", shallow_copy.get_items())"
   ]
  },
  {
   "cell_type": "markdown",
   "id": "3a07fb5f",
   "metadata": {},
   "source": [
    "If we want to make an independent copy of the list we must\n",
    "use `deepcopy` instead"
   ]
  },
  {
   "cell_type": "code",
   "execution_count": 19,
   "id": "9321f874",
   "metadata": {},
   "outputs": [
    {
     "name": "stdout",
     "output_type": "stream",
     "text": [
      "Original List: ['Apple', 'Banana', 'Orange', 'Grapes']\n",
      "Deep Copy: ['Apple', 'Banana', 'Orange']\n"
     ]
    }
   ],
   "source": [
    "deep_copy = copy.deepcopy(original_list)\n",
    "deep_copy.remove_item(\"Grapes\")\n",
    "print(\"Original List:\", original_list.get_items())\n",
    "print(\"Deep Copy:\", deep_copy.get_items())"
   ]
  },
  {
   "cell_type": "markdown",
   "id": "c0f28a69",
   "metadata": {},
   "source": [
    "As you see, after having used `deepcopy` the original copy remains unchanged.\n",
    "\n",
    "## Static methods and attributes\n",
    "**Static attributes and methods** belong to a class rather than an\n",
    "instance of the class. They are typically used for values or \n",
    "functions that are related to the class but do not require access \n",
    "to your specific instance of the class. \n",
    "\n",
    "Here we define a class `MathUtils` with a static attribute `pi`, \n",
    "representing the value of the mathematical constant $pi$ and\n",
    "a static method that calculates the factorial of a number\n",
    "recursively"
   ]
  },
  {
   "cell_type": "code",
   "execution_count": 20,
   "id": "a7a17585",
   "metadata": {},
   "outputs": [],
   "source": [
    "class MathUtils:\n",
    "    pi = 3.14159 \n",
    "    \n",
    "    @staticmethod\n",
    "    def factorial(n):\n",
    "        if n == 0 or n == 1:\n",
    "            return 1\n",
    "        else:\n",
    "            return n * MathUtils.factorial(n - 1)"
   ]
  },
  {
   "cell_type": "markdown",
   "id": "076c299b",
   "metadata": {},
   "source": [
    "We can hence access the value of $pi$"
   ]
  },
  {
   "cell_type": "code",
   "execution_count": 21,
   "id": "10f2d843",
   "metadata": {},
   "outputs": [
    {
     "name": "stdout",
     "output_type": "stream",
     "text": [
      "Value of pi: 3.14159\n"
     ]
    }
   ],
   "source": [
    "print(\"Value of pi:\", MathUtils.pi)"
   ]
  },
  {
   "cell_type": "markdown",
   "id": "811dbef5",
   "metadata": {},
   "source": [
    "or calculate the factorial of an integer as"
   ]
  },
  {
   "cell_type": "code",
   "execution_count": 22,
   "id": "f7d3ebed",
   "metadata": {},
   "outputs": [
    {
     "name": "stdout",
     "output_type": "stream",
     "text": [
      "The factorial of 5 is 120\n"
     ]
    }
   ],
   "source": [
    "num = 5\n",
    "factorial_result = MathUtils.factorial(num)\n",
    "print(\"The factorial of %g is %g\"%(num, factorial_result))"
   ]
  },
  {
   "cell_type": "markdown",
   "id": "55a58ca7",
   "metadata": {},
   "source": [
    "## Inheritance\n",
    "Sometimes you will find that there exists a natural hierarchy \n",
    "between your classes: dogs are for example, a specific type of\n",
    "animal. Let's start writing a general class, called `Animal`"
   ]
  },
  {
   "cell_type": "code",
   "execution_count": 23,
   "id": "b2c61cff",
   "metadata": {},
   "outputs": [],
   "source": [
    "class Animal:\n",
    "    def __init__(self, name, species):\n",
    "        self.name = name\n",
    "        self.species = species\n",
    "    \n",
    "    def make_sound(self):\n",
    "        pass  # This method will be overridden in subclasses"
   ]
  },
  {
   "cell_type": "markdown",
   "id": "bfac5a22",
   "metadata": {},
   "source": [
    "Continuing with our dog-as-a-type-of-animal example, we can write \n",
    "a new class for dogs thah inherits the methods of the existing class"
   ]
  },
  {
   "cell_type": "code",
   "execution_count": 24,
   "id": "686d0cae",
   "metadata": {},
   "outputs": [],
   "source": [
    "class Dog(Animal):\n",
    "    def __init__(self, name):\n",
    "        super().__init__(name, species=\"Dog\")\n",
    "\n",
    "    def make_sound(self):\n",
    "        return \"Woof!\""
   ]
  },
  {
   "cell_type": "markdown",
   "id": "4e8a9ef1",
   "metadata": {},
   "source": [
    "You may instead be a cat person, and still inherit from `Animal`"
   ]
  },
  {
   "cell_type": "code",
   "execution_count": 25,
   "id": "83c4f682",
   "metadata": {},
   "outputs": [],
   "source": [
    "class Cat(Animal):\n",
    "    def __init__(self, name):\n",
    "        super().__init__(name, species=\"Cat\")\n",
    "\n",
    "    def make_sound(self):\n",
    "        return \"Meow!\"\n"
   ]
  },
  {
   "cell_type": "markdown",
   "id": "0fa41749",
   "metadata": {},
   "source": [
    "Then we can generate instances of our `Dog` and `Cat` classes"
   ]
  },
  {
   "cell_type": "code",
   "execution_count": 26,
   "id": "7c240286",
   "metadata": {},
   "outputs": [
    {
     "name": "stdout",
     "output_type": "stream",
     "text": [
      "Buddy the Dog says: Woof!\n",
      "Whiskers the Cat says: Meow!\n"
     ]
    }
   ],
   "source": [
    "dog = Dog(\"Buddy\")\n",
    "cat = Cat(\"Whiskers\")\n",
    "\n",
    "animals = [dog, cat]\n",
    "\n",
    "for animal in animals:\n",
    "    print(f\"{animal.name} the {animal.species} says: {animal.make_sound()}\")"
   ]
  }
 ],
 "metadata": {
  "jupytext": {
   "text_representation": {
    "extension": ".md",
    "format_name": "myst"
   }
  },
  "kernelspec": {
   "display_name": "Python 3",
   "language": "python",
   "name": "python3"
  },
  "language_info": {
   "codemirror_mode": {
    "name": "ipython",
    "version": 3
   },
   "file_extension": ".py",
   "mimetype": "text/x-python",
   "name": "python",
   "nbconvert_exporter": "python",
   "pygments_lexer": "ipython3",
   "version": "3.8.20"
  },
  "source_map": [
   10,
   32,
   36,
   63,
   70,
   73,
   75,
   80,
   87,
   90,
   93,
   114,
   136,
   139,
   142,
   144,
   147,
   149,
   152,
   154,
   156,
   163,
   174,
   179,
   181,
   183,
   187,
   192,
   194,
   203,
   217,
   220,
   223,
   225,
   229,
   231,
   234,
   237,
   242,
   255,
   265,
   267,
   269,
   271,
   275,
   282,
   290,
   293,
   300,
   302,
   310,
   312
  ]
 },
 "nbformat": 4,
 "nbformat_minor": 5
}