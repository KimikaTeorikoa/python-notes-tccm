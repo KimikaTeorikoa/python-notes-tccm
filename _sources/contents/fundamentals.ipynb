{
 "cells": [
  {
   "cell_type": "markdown",
   "id": "87cab6f0",
   "metadata": {},
   "source": [
    "# Python Fundamentals\n",
    "In this chapter, we will introduce you to the very basics\n",
    "of computer programming with Python. We will first see\n",
    "some general notions that will make you understand how a Python \n",
    "program looks. Then we will go through how to \n",
    "write basic instructions for reading and writing\n",
    "inside a computer program. We will also explain the types\n",
    "of variables we can use.\n",
    "\n",
    "## Introduction\n",
    "Python is a **high-level programming language**,\n",
    "like others you may have heard about, including\n",
    "Fortran, C or C++. High-level\n",
    "languages differ from low-level languages in that\n",
    "the former can be easily understood by people, while\n",
    "the latter are those that can be understood by machines. \n",
    "So when writing in a high-level language we normally\n",
    "need to translate the actions in our code to \n",
    "machine-readable format.\n",
    "\n",
    "If you have ever done any programming before using \n",
    "languages like Fortran, C or C++, you surely adopted\n",
    "a workflow where you first wrote code and then \n",
    "compiled it using another program called **compiler**,\n",
    "wich generated a binary, machine-readable file. \n",
    "It would look something like this\n",
    "\n",
    "![compiling](https://hpc-wiki.info/mediawiki/hpc_images/8/8a/Compiler_Shematic.png)\n",
    "\n",
    "\n",
    "That will *not* be the case with Python. One of the\n",
    "key differences between Python and those other programming\n",
    "languages is that Python is an **interpretive** language.\n",
    "Hence you will not have to compile the code as you\n",
    "modify it. The **Python interpreter** performs those \n",
    "actions for you. \n",
    "\n",
    "All of these comes with a caveat. \n",
    "Because Python is not compiled, your\n",
    "programs written in Python will not be as fast as they \n",
    "could be when written in Fortran, C or C++.\n",
    "Below you can see a comparison between speeds of various\n",
    "programming languages \n",
    "\n",
    "![performance-speed](https://niklas-heer.github.io/speed-comparison/assets/latest/combined_results.png)\n",
    "\n",
    "```{hint}\n",
    "Clearly, Python is not the fastest language in town. There\n",
    "are workarounds for this, like linking Python and C or Fortran\n",
    "code, or using [Cython](https://cython.org/).\n",
    "```\n",
    "\n",
    "## Writing your first Python program\n",
    "Let's see how running a simple Python program works in \n",
    "practice. Using your IDE or terminal, open a text editor\n",
    "and write the following:\n",
    "\n",
    "```python\n",
    "#!/usr/bin/env python\n",
    "# Our first Python program\n",
    "print (\"Hello World!\")\n",
    "```\n",
    "\n",
    "Now let's examine what we have just written. \n",
    "You will notice that the first couple of lines \n",
    "that we have written start with a hash symbol (`#`). \n",
    "This means that whatever follows will not be read by the \n",
    "Python interpreter. This is what we usually regard as \n",
    "a **comment**. Then there is a `print` statement \n",
    "followed by a parentheses `()` with a piece of text\n",
    "inside. And that is all there is to our first Python\n",
    "program.\n",
    "\n",
    "Now close the file, save it as `hello_world.py` and run \n",
    "the following command on your terminal\n",
    "```bash\n",
    "foo@bar:~$ python hello_world.py\n",
    "```\n",
    "Now check whether the program has done as you intended it to.\n",
    "\n",
    "## Names and cases\n",
    "In your programs you will usually be defining lots of different\n",
    "variables. *Variables are names for values* and the naming of \n",
    "variables follow some conventions. For example, they can \n",
    "be formed by letters, numbers and only one symbol, the \n",
    "underscore `_`.\n",
    "\n",
    "Something else you must remember is that Python\n",
    "is **case sensitive**, so when you try to use \n",
    "a variable without regard to the case you used to \n",
    "assign it a value, things will not go well."
   ]
  },
  {
   "cell_type": "code",
   "execution_count": 1,
   "id": "67ae81fd",
   "metadata": {},
   "outputs": [
    {
     "ename": "NameError",
     "evalue": "name 'A' is not defined",
     "output_type": "error",
     "traceback": [
      "\u001b[0;31m---------------------------------------------------------------------------\u001b[0m",
      "\u001b[0;31mNameError\u001b[0m                                 Traceback (most recent call last)",
      "Cell \u001b[0;32mIn[1], line 2\u001b[0m\n\u001b[1;32m      1\u001b[0m a \u001b[38;5;241m=\u001b[39m \u001b[38;5;241m10\u001b[39m\n\u001b[0;32m----> 2\u001b[0m \u001b[38;5;28mprint\u001b[39m (\u001b[43mA\u001b[49m)\n",
      "\u001b[0;31mNameError\u001b[0m: name 'A' is not defined"
     ]
    }
   ],
   "source": [
    "a = 10\n",
    "print (A)"
   ]
  },
  {
   "cell_type": "markdown",
   "id": "4f96acb9",
   "metadata": {},
   "source": [
    "As we see, Python returns an error (specifically, \n",
    "a `NameError`), as a variable named `A` does not exist.\n",
    "The only variable that we assigned a value to is `a`, and\n",
    "in Python `a` and `A` are different things.\n",
    "\n",
    "```{hint}\n",
    "Always try to read error messages from Python. They are\n",
    "highly informative and often direct you to the exact line\n",
    "where the problem is.\n",
    "```\n",
    "\n",
    "Also, in Python some possibilities are forbidden, like\n",
    "starting a variable with a number. If you write code including \n",
    "something like:\n",
    "```python\n",
    "77david = 'myname'\n",
    "```\n",
    "and try to run it, you will get a `SyntaxError`. The same thing \n",
    "will happen if you try to use one of the many keywords in\n",
    "Python. These include\n",
    "```\n",
    "and     del     from        not     while\n",
    "as      elif    global      or      with\n",
    "assert  else    if          pass    yield\n",
    "break   except  import      print   class\n",
    "in      raise   continue    is      return\n",
    "def     for     lambda      try\n",
    "```\n",
    "\n",
    "It is convenient to choose **variable names** that\n",
    "will be meaningful to you and any other potential user of your\n",
    "program (often your future self). For example, if you are\n",
    "calculating the area of a circle, it would make sense to\n",
    "write something like this:\n",
    "```python\n",
    "area = pi*radius**2\n",
    "```\n",
    "Here we are using some stuff that you we have not covered yet.\n",
    "Also, we are assuming that you have given values to both `pi`\n",
    "and `radius`. \n",
    "But you surely understand why we are using the code snippet as\n",
    "an example of using meaningful variable names. Using cryptic \n",
    "variable names will make everyone miserable, so it is a good \n",
    "investment to use names that seem sensible choices.\n",
    "\n",
    "Additionally, in Python there are naming conventions\n",
    "that you should follow. These are described in\n",
    "[PEP8](https://peps.python.org/pep-0008/#prescriptive-naming-conventions).\n",
    "For example, variables are typically written in lowercase, \n",
    "and so are functions. On the other hand, classes, which \n",
    "we will learn about in the future, use the so-called\n",
    "CapWords style.\n",
    "\n",
    "(fundamentals.io)=\n",
    "## Input / Output\t\n",
    "In our first program `hello_world.py` above, we have already \n",
    "written to something we call the \"standard output\", i.e. the \n",
    "display, using the `print` function. The `print` function\n",
    "displays values as text.\n",
    "\n",
    " \n",
    "In Python there are many other ways to write your output\n",
    "and also to read input into a program. You can, for example,\n",
    "make your program write the results of a calculation\n",
    "to a file instead of to your screen, or prompt the user to \n",
    "write a set of input variables using the keyword for the \n",
    "program to read (this would be the \"standard input\"). \n",
    "Here we explore the basics of Input / Output operations.\n",
    "\n",
    "### Opening and closing files\n",
    "Suppose that there is a file in your working directory\n",
    " called `myfile.txt` from which you want to read its contents. \n",
    "In order to do that, you will have to write \n",
    "```python\n",
    "f = open(\"myfile.txt\", \"r\")\n",
    "```\n",
    "In this statement, we are using a **built-in function** called `open`.\n",
    "The first argument of this function is the external filename (Python\n",
    "will assume that the file does exist). The second argument indicates \n",
    "the processing **mode**. There are different modes available:\n",
    "* `r`: read only mode\n",
    "* `w`: write only mode\n",
    "* `a`: append mode\n",
    "* `r+`: read and write mode\n",
    "*  `t`: text mode\n",
    "* `b`: binary mode\n",
    "\n",
    "Depending on the type of data in the file and what you intend to use \n",
    "the file for, you will choose one of these ways of opening the file. \n",
    "As a good programming habbit, remember to close files once you no \n",
    "longer need to access them:\n",
    "```python\n",
    "f.close()\n",
    "```\n",
    "Another way of opening files in Python is using **file iterators**.\n",
    "You are using them when you open files using the \n",
    "`with` statement, which works as\n",
    "```python\n",
    "with open(\"myfile.txt\", \"r\") as f:\n",
    "    ...\n",
    "```\n",
    "In this case you do not need to close the file yourself.\n",
    "\n",
    " \n",
    "\n",
    "### Reading and writing data into files \n",
    "Once you have opened a file, you will many times want to read its \n",
    "contents. You can do that *line by line* for the `myfile.txt` which \n",
    "you have opened and named as `f` in your program doing\n",
    "```python\n",
    "f.readline()\n",
    "```\n",
    "You can *bulk-read* all the file using `readlines()` instead.\n",
    "\n",
    "Alternatively, if you want to write into your file, you will\n",
    "first have to open it for writing. Then, you will be able to write\n",
    "into the file using the following statement\n",
    "```python\n",
    "f = open(\"test.txt\", \"w\")\n",
    "f.write(\"hello world!\\n\")\n",
    "f.close()\n",
    "```\n",
    "where we are simply writing a text string. As we go along, we\n",
    "will greatly expand our understanding of Input/Output operations.\n",
    "\n",
    "```{exercise}\n",
    ":nonumber:\n",
    ":class: dropdown\n",
    "\n",
    "Do you remember our first Python program called `hello_world.py`?\n",
    "In a IPython session or using a Jupyter-notebook, open that\n",
    "file using both `open` and an iterator and write its contents\n",
    "as text. Pay attention to how these are written.\n",
    "```\n",
    "\n",
    "## Data Types\n",
    "Variables in Python can be of many different types,\n",
    "including **text strings**, **lists**, **integers**, **floats**\n",
    " and **Boolean**. In Python variables take the form of **objects**, \n",
    "although we will not explain what this highly consequential fact\n",
    " entails just yet. \n",
    "For now, we will just say that objects are *pieces of memory, \n",
    "with values and sets of associated operations*.\n",
    "\n",
    "In Python, *a variable is created when you assign a value to it*.\n",
    "Assignment of a value to a variable is simply made using the equal\n",
    " operator (`=`) in statements like\n",
    "```python\n",
    "a = 10\n",
    "```\n",
    "Because Python has **dynamic typing**, you do not have to declare \n",
    "variables. Python will assign a type to each variable in your code. \n",
    "In order to know the type of a given variable, you can use\n",
    "the intrinsic function `type`. For the variable you just created\n",
    "you can find the type using"
   ]
  },
  {
   "cell_type": "code",
   "execution_count": 2,
   "id": "792fa5f6",
   "metadata": {},
   "outputs": [
    {
     "data": {
      "text/plain": [
       "int"
      ]
     },
     "execution_count": 2,
     "metadata": {},
     "output_type": "execute_result"
    }
   ],
   "source": [
    "type(a)"
   ]
  },
  {
   "cell_type": "markdown",
   "id": "a71c46d4",
   "metadata": {},
   "source": [
    "In the case above, you might want `a` to be defined\n",
    "as a float instead of an integer. If that is the case, you can assign \n",
    "the type explicitly\n",
    "```python\n",
    "a = float(10)\n",
    "```\n",
    "Alternatively, you can add a point at the end\n",
    "```python\n",
    "a = 10.\n",
    "```\n",
    "The result will be the same.\n",
    "\n",
    "In Python, you can sometimes combine different types\n",
    "to perform arithmetic operations"
   ]
  },
  {
   "cell_type": "code",
   "execution_count": 3,
   "id": "a187a3a5",
   "metadata": {},
   "outputs": [
    {
     "name": "stdout",
     "output_type": "stream",
     "text": [
      "11.0\n",
      "<class 'float'>\n"
     ]
    }
   ],
   "source": [
    "a = 10; b = 1.\n",
    "c = a + b\n",
    "print (c)\n",
    "print (type(c))"
   ]
  },
  {
   "cell_type": "markdown",
   "id": "6e8fed2f",
   "metadata": {},
   "source": [
    ":::{note}\n",
    "In the past, there were problems with integer divisions,\n",
    "as you would always recover an `int`, but that is no longer\n",
    "the case in Python 3, where they are converted into a float.\n",
    "Try the following:\n",
    "```python\n",
    "a = 10; b = 3\n",
    "c = a/b\n",
    "print (c)\n",
    "print (type(c))\n",
    "```\n",
    ":::\n",
    "\n",
    "### Numeric types\n",
    "In the few lines of code above, we have used the most straightforward \n",
    "types in Python, **integers**, which lack a decimal part,\n",
    "and **floating-point** numbers.\n",
    "Using floats and integers you can do all sorts of computations in Python,\n",
    " very much like you would in a regular calculator. You can for example \n",
    "use operators like `+` and `-`, which are called **unary operators**, \n",
    "because they act on a single numeric value. You can perform multiplications,\n",
    " using the operator `*`, divisions with `/`, and integer divisions with `//`.\n",
    "Using `%` you will obtain the remainder of a division. Also you can \n",
    "exponentiate using the operator `**`.\n",
    "\n",
    "There are also some additional operations that you\n",
    "may want to know of, like the `+=` addition assignment\n",
    "or `-=` substraction assignment. You can also use\n",
    "relational operators, like `<`, `>`, `<=`, `>=` or `==`,\n",
    "to compare the values of two variables. For example,"
   ]
  },
  {
   "cell_type": "code",
   "execution_count": 4,
   "id": "4ead6a25",
   "metadata": {},
   "outputs": [
    {
     "data": {
      "text/plain": [
       "False"
      ]
     },
     "execution_count": 4,
     "metadata": {},
     "output_type": "execute_result"
    }
   ],
   "source": [
    "a = 10; b = 3\n",
    "a < b"
   ]
  },
  {
   "cell_type": "markdown",
   "id": "69dd02c2",
   "metadata": {},
   "source": [
    "These operators will return either `True` or `False`.\n",
    "This is what we call a **Boolean**.\n",
    "We will discuss Booleans and logical operations in the\n",
    "[next chapter](flowcontrol.logicaltests).\n",
    "\n",
    "Something you must bear in mind when you are programming\n",
    "is the *finite machine precision* with which your computer\n",
    "works. A case in point is the following:"
   ]
  },
  {
   "cell_type": "code",
   "execution_count": 5,
   "id": "f6b8af88",
   "metadata": {},
   "outputs": [
    {
     "name": "stdout",
     "output_type": "stream",
     "text": [
      "0.15000000000000002\n"
     ]
    }
   ],
   "source": [
    "print (0.1 + 0.05)"
   ]
  },
  {
   "cell_type": "markdown",
   "id": "df253401",
   "metadata": {},
   "source": [
    "Discouragingly, the result is not what one would expect. \n",
    "There is,\n",
    "however, nothing wrong with that result. It is the consequence\n",
    "of the way real numbers are stored in your machine, which \n",
    "results in **round-off or truncation errors**. Specifically,\n",
    "floats are written using 53 bits of precision. Because 0.1 and\n",
    "0.5 are truncated in floating-point representation, the result\n",
    "is not exactly what you would expect. When writing a program,\n",
    "you should think about whether this actually matters for the\n",
    "problem at hand.\n",
    "\n",
    "Another type of numeric that you may need are **complex** numbers.\n",
    "In Python, you can define them using the character `j`."
   ]
  },
  {
   "cell_type": "code",
   "execution_count": 6,
   "id": "b88057a8",
   "metadata": {},
   "outputs": [
    {
     "data": {
      "text/plain": [
       "complex"
      ]
     },
     "execution_count": 6,
     "metadata": {},
     "output_type": "execute_result"
    }
   ],
   "source": [
    "type(1 + 1j)"
   ]
  },
  {
   "cell_type": "markdown",
   "id": "5383efb6",
   "metadata": {},
   "source": [
    "```{exercise}\n",
    ":nonumber:\n",
    ":class: dropdown\n",
    "\n",
    "Create two integer or floating point variables, `a` and `b`, and \n",
    "assign them values. Perform the following operations and print the \n",
    "results:\n",
    "* Addition of `a` and `b`.\n",
    "* Subtraction of `b  from `a`.\n",
    "* Multiplication of `a` and `b`.\n",
    "* Integer division of `a` by `b`.\n",
    "* Modulus (remainder) of `a` divided by `b`.\n",
    "* Exponentiation of `a` raised to the power of `b`.\n",
    "Check at every stage the types of the results.\n",
    "```\n",
    "\n",
    "\n",
    "### Text strings\n",
    "The variable type we normally use to store text characters\n",
    "in Python are **strings**. In fact, we have already written \n",
    "one such variable in our `hello_world.py` program above. \n",
    "Strings are generated using single `'` or double quotes `\"`\n",
    "around a set of characters. It is usually good to pick \n",
    "a rule and stick to [either single or double \n",
    "quotes](https://peps.python.org/pep-0008/#string-quotes).\n",
    "\n",
    "Python provides a number of **intrinsic functions and operators**\n",
    "that are specific to string manipulation. For example, if\n",
    "you want to know the length of a string, you can use the\n",
    "`len` function."
   ]
  },
  {
   "cell_type": "code",
   "execution_count": 7,
   "id": "a4e0e092",
   "metadata": {},
   "outputs": [
    {
     "name": "stdout",
     "output_type": "stream",
     "text": [
      "5\n"
     ]
    }
   ],
   "source": [
    "myname = 'david'\n",
    "print (len(myname))"
   ]
  },
  {
   "cell_type": "markdown",
   "id": "510853d0",
   "metadata": {},
   "source": [
    "Additionally, addition and multiplication work in a special\n",
    "way when applied to strings. For example,"
   ]
  },
  {
   "cell_type": "code",
   "execution_count": 8,
   "id": "8498039b",
   "metadata": {},
   "outputs": [
    {
     "name": "stdout",
     "output_type": "stream",
     "text": [
      "hello world\n"
     ]
    }
   ],
   "source": [
    "string1 = \"hello\"\n",
    "string2 = \"world\"\n",
    "space = \" \"\n",
    "print (string1 + space + string2)"
   ]
  },
  {
   "cell_type": "markdown",
   "id": "ab6c844e",
   "metadata": {},
   "source": [
    "Also,"
   ]
  },
  {
   "cell_type": "code",
   "execution_count": 9,
   "id": "efea8460",
   "metadata": {},
   "outputs": [
    {
     "name": "stdout",
     "output_type": "stream",
     "text": [
      "Good morning\n",
      "Good morning\n",
      "Good morning\n",
      "Good morning\n",
      "Good morning\n",
      "Nothing to do to save his life call his wife in\n"
     ]
    }
   ],
   "source": [
    "verse1 = \"Good morning\\n\"\n",
    "verse2 = \"Nothing to do to save his life call his wife in\"\n",
    "print (5*verse1 + verse2)"
   ]
  },
  {
   "cell_type": "markdown",
   "id": "2e1f5f32",
   "metadata": {},
   "source": [
    "Hence, addition for strings means *concatenation*, while\n",
    "multiplication means *repetition*. \n",
    "\n",
    "You can also perform\n",
    "*membership* operators, to check whether an element is present\n",
    "in a string."
   ]
  },
  {
   "cell_type": "code",
   "execution_count": 10,
   "id": "b1a676a4",
   "metadata": {},
   "outputs": [
    {
     "data": {
      "text/plain": [
       "False"
      ]
     },
     "execution_count": 10,
     "metadata": {},
     "output_type": "execute_result"
    }
   ],
   "source": [
    "'a' in 'Antonio'"
   ]
  },
  {
   "cell_type": "markdown",
   "id": "9599e4eb",
   "metadata": {},
   "source": [
    "Another interesting thing you can do with strings that\n",
    "was not possible with `int` or `float` is **indexing**. You \n",
    "can access the *i*-th element of a string using\n",
    "```python\n",
    "string[i]\n",
    "```\n",
    "where you must remember that Python uses **zero-based\n",
    "indexing**. Hence, the 1st element in a string is \n",
    "accessed using the index 0, and so on. You can also\n",
    "access characters in a string backwards, using \n",
    "negative numbers.\n",
    "We can also perform **slicing** operations, which \n",
    "extract sections (or slices) of the string"
   ]
  },
  {
   "cell_type": "code",
   "execution_count": 11,
   "id": "00ad5940",
   "metadata": {},
   "outputs": [
    {
     "name": "stdout",
     "output_type": "stream",
     "text": [
      "am\n"
     ]
    }
   ],
   "source": [
    "val = 'spam'\n",
    "print (val[2:4])"
   ]
  },
  {
   "cell_type": "markdown",
   "id": "2547a193",
   "metadata": {},
   "source": [
    "There is an interesting property of strings, which\n",
    "is called **immutability**. While you can redefine a\n",
    "string, you cannot change it. For example, you can\n",
    "do\n",
    "```python\n",
    "s = 'spam'\n",
    "s = 'ham'\n",
    "```\n",
    "but if you try"
   ]
  },
  {
   "cell_type": "code",
   "execution_count": 12,
   "id": "d3c64b4f",
   "metadata": {},
   "outputs": [
    {
     "ename": "TypeError",
     "evalue": "'str' object does not support item assignment",
     "output_type": "error",
     "traceback": [
      "\u001b[0;31m---------------------------------------------------------------------------\u001b[0m",
      "\u001b[0;31mTypeError\u001b[0m                                 Traceback (most recent call last)",
      "Cell \u001b[0;32mIn[12], line 2\u001b[0m\n\u001b[1;32m      1\u001b[0m s \u001b[38;5;241m=\u001b[39m \u001b[38;5;124m'\u001b[39m\u001b[38;5;124mspam\u001b[39m\u001b[38;5;124m'\u001b[39m\n\u001b[0;32m----> 2\u001b[0m \u001b[43ms\u001b[49m\u001b[43m[\u001b[49m\u001b[38;5;241;43m0\u001b[39;49m\u001b[43m]\u001b[49m \u001b[38;5;241m=\u001b[39m \u001b[38;5;124m'\u001b[39m\u001b[38;5;124mh\u001b[39m\u001b[38;5;124m'\u001b[39m\n",
      "\u001b[0;31mTypeError\u001b[0m: 'str' object does not support item assignment"
     ]
    }
   ],
   "source": [
    "s = 'spam'\n",
    "s[0] = 'h'"
   ]
  },
  {
   "cell_type": "markdown",
   "id": "e594a881",
   "metadata": {},
   "source": [
    "you will obtain a `TypeError`. What you can do instead\n",
    "is"
   ]
  },
  {
   "cell_type": "code",
   "execution_count": 13,
   "id": "f218a468",
   "metadata": {},
   "outputs": [
    {
     "name": "stdout",
     "output_type": "stream",
     "text": [
      "ham\n"
     ]
    }
   ],
   "source": [
    "s = 'h' + s[2:]\n",
    "print (s)"
   ]
  },
  {
   "cell_type": "markdown",
   "id": "73416666",
   "metadata": {},
   "source": [
    "This construction generates a new string using the old string,\n",
    "but importantly, it does not change the old string.\n",
    "\n",
    "There are many other interesting manipulations that\n",
    "we can do with text strings, using **type-specific methods**.\n",
    "Strings are, for example, searchable"
   ]
  },
  {
   "cell_type": "code",
   "execution_count": 14,
   "id": "8a71b548",
   "metadata": {},
   "outputs": [
    {
     "data": {
      "text/plain": [
       "0"
      ]
     },
     "execution_count": 14,
     "metadata": {},
     "output_type": "execute_result"
    }
   ],
   "source": [
    "s = 'david'\n",
    "s.find('d')"
   ]
  },
  {
   "cell_type": "markdown",
   "id": "8f7612c2",
   "metadata": {},
   "source": [
    "and you can generate new strings making intuitive changes\n",
    "like making uppercase what was lowercase"
   ]
  },
  {
   "cell_type": "code",
   "execution_count": 15,
   "id": "38a95e86",
   "metadata": {},
   "outputs": [
    {
     "data": {
      "text/plain": [
       "'PETER'"
      ]
     },
     "execution_count": 15,
     "metadata": {},
     "output_type": "execute_result"
    }
   ],
   "source": [
    "s = 'peter'\n",
    "s.upper()"
   ]
  },
  {
   "cell_type": "markdown",
   "id": "913bdfa1",
   "metadata": {},
   "source": [
    "You can also split a string into parts, based on a given\n",
    "element."
   ]
  },
  {
   "cell_type": "code",
   "execution_count": 16,
   "id": "5d071389",
   "metadata": {},
   "outputs": [
    {
     "data": {
      "text/plain": [
       "['bread', ' butter', ' flour', ' milk']"
      ]
     },
     "execution_count": 16,
     "metadata": {},
     "output_type": "execute_result"
    }
   ],
   "source": [
    "s = 'bread, butter, flour, milk'\n",
    "s.split(',')"
   ]
  },
  {
   "cell_type": "markdown",
   "id": "3963e062",
   "metadata": {},
   "source": [
    "But this takes us directly into the next type of variable\n",
    "we want to consider.\n",
    "\n",
    "```{exercise}\n",
    ":nonumber:\n",
    ":class: dropdown\n",
    "\n",
    "* Create a string variable `text` and assign it a text of your choice.\n",
    "Use string methods to calculate the length of the string, \n",
    "convert the string to uppercase or lowercase and capitalize the first letter.\n",
    "\n",
    "* Using string slicing, extract a substring from the middle of the `text` \n",
    "variable.\n",
    "\n",
    "* Create two string variables, `str1` and `str2`, and assign them different \n",
    "text values. Concatenate `str1` and `str2` to create a new string.\n",
    "\n",
    "* Use the `split()` method to split the text variable into a list of words.\n",
    "```\n",
    "\n",
    "### F-Strings: Formatted String Literals\n",
    "\n",
    "In addition to basic string operations, Python offers a powerful feature called **f-strings** (formatted string literals) that allows for more dynamic and readable string formatting. F-strings were introduced in Python 3.6 and provide an intuitive way to embed expressions directly within string literals.\n",
    "\n",
    "To create an f-string, simply prefix your string with the letter `f` or `F`. You can include variables or expressions inside curly braces `{}` within the string, which will be evaluated at runtime.\n",
    "\n",
    "For instance, consider the following code:\n",
    "```python\n",
    "event_name = \"Python Workshop\"\n",
    "date = \"October 15, 2024\"\n",
    "location = \"Community Center\"\n",
    "event_details = f\"The {event_name} will be held on {date} at the {location}.\"\n",
    "print(event_details)\n",
    "```\n",
    "\n",
    "the output is\n",
    "\n",
    "```python\n",
    "The Python Workshop will be held on October 15, 2024 at the Community Center.\n",
    "```\n",
    "\n",
    "In this example, the variables `event_name`, `date`, and `location` are directly embedded in the string, providing clear \n",
    "information about the event.\n",
    "\n",
    "F-strings also allow you to include expressions. For example:\n",
    "\n",
    "```python\n",
    "width = 10\n",
    "height = 5\n",
    "area = f\"The area of the rectangle is {width * height} square units.\"\n",
    "print(area)\n",
    "```\n",
    "\n",
    "gives the output\n",
    "\n",
    "```python\n",
    "The area of the rectangle is 50 square units.\n",
    "```\n",
    "\n",
    "Here, the expression `width * height` is evaluated, and its result is included in the f-string.\n",
    "\n",
    "Moreover, f-strings support formatting options, making it easy to control how numbers are displayed:\n",
    "\n",
    "```python\n",
    "pi = 3.14159\n",
    "formatted_pi = f\"Pi rounded to two decimal places is {pi:.2f}.\"\n",
    "print(formatted_pi)\n",
    "```\n",
    "\n",
    "and the output is\n",
    "\n",
    "```python\n",
    "Pi rounded to two decimal places is 3.14.\n",
    "```\n",
    "\n",
    "In this example, the `.2f` format specifier rounds pi to two decimal places.\n",
    "We will see more on F-strings in when reviewing [printing](printing) methods more in detail.\n",
    "\n",
    "### Lists, tuples and dictionaries\n",
    "**Lists** are a very important type of **sequence**, which\n",
    "in Python is a type of data structures that contain a \n",
    "collection of elements. In the last section, we have generated \n",
    "one such object\n",
    "```python\n",
    "['bread', ' butter', ' flour', ' milk']\n",
    "```\n",
    "which is of course a list of strings. \n",
    "\n",
    "Lists are defined when the list of elements is written inside square\n",
    "brackets (`[ ]`). If you were using parenthesis instead,\n",
    "(`( )`) then you would be defining what we call a **tuple**.\n",
    "Finally, there are **dictionaries**, which are defined\n",
    "using curly brackets (`{ }`).\n",
    "\n",
    "Lists and tuples can contain all sorts of data types. You\n",
    "can for example combine numerics and strings.\n",
    "```python\n",
    "mylist = [\"I\", \"am\", 30, \"years\", \"old\"]\n",
    "```\n",
    "Also, you can easily convert between lists and tuples\n",
    "```python\n",
    "mytuple = tuple(mylist)\n",
    "```\n",
    "The main difference between lists and tuples is that the\n",
    "latter are immutable, while you are allowed to change\n",
    "lists.\n",
    "\n",
    "Operators work with lists and tuples like they did with\n",
    "strings. Addition is concatenation and multiplication is\n",
    "repetition. For example,"
   ]
  },
  {
   "cell_type": "code",
   "execution_count": 17,
   "id": "5e80027b",
   "metadata": {},
   "outputs": [
    {
     "data": {
      "text/plain": [
       "['one', 'two', 'three', 'four']"
      ]
     },
     "execution_count": 17,
     "metadata": {},
     "output_type": "execute_result"
    }
   ],
   "source": [
    "['one', 'two'] + ['three', 'four']"
   ]
  },
  {
   "cell_type": "markdown",
   "id": "5fa1d6ed",
   "metadata": {},
   "source": [
    "or"
   ]
  },
  {
   "cell_type": "code",
   "execution_count": 18,
   "id": "00dcaaa0",
   "metadata": {},
   "outputs": [
    {
     "data": {
      "text/plain": [
       "(1, 2, 1, 2, 1, 2)"
      ]
     },
     "execution_count": 18,
     "metadata": {},
     "output_type": "execute_result"
    }
   ],
   "source": [
    "(1, 2)*3"
   ]
  },
  {
   "cell_type": "markdown",
   "id": "af3566e5",
   "metadata": {},
   "source": [
    "Membership operators are also similar to what we saw for\n",
    "lists"
   ]
  },
  {
   "cell_type": "code",
   "execution_count": 19,
   "id": "8d082457",
   "metadata": {},
   "outputs": [
    {
     "data": {
      "text/plain": [
       "False"
      ]
     },
     "execution_count": 19,
     "metadata": {},
     "output_type": "execute_result"
    }
   ],
   "source": [
    "1 in [10, 20, 30]"
   ]
  },
  {
   "cell_type": "markdown",
   "id": "ab40d0b4",
   "metadata": {},
   "source": [
    "As are the slicing operations, which are again accessing\n",
    "elements of the list using zero-based indexing"
   ]
  },
  {
   "cell_type": "code",
   "execution_count": 20,
   "id": "e94457c6",
   "metadata": {},
   "outputs": [
    {
     "name": "stdout",
     "output_type": "stream",
     "text": [
      "[30, 40, 50, 60, 70, 80]\n"
     ]
    }
   ],
   "source": [
    "decades = list(range(10, 110, 10))\n",
    "print (decades[2:-2])"
   ]
  },
  {
   "cell_type": "markdown",
   "id": "0953760c",
   "metadata": {},
   "source": [
    "Here we are using something called a `range` object,\n",
    "which we are using to build a list. The syntax is worth\n",
    "discussing: using `range(start, stop, step)` we enumerate \n",
    "integers from the \n",
    "first argument (`start`), to the second argument (`stop`), \n",
    "in steps of size given by the third argument (`step`).\n",
    "\n",
    "You can interrogate lists using intrinsic functions.\n",
    "For example, you can find how many elements there are\n",
    "in a list using `len()`"
   ]
  },
  {
   "cell_type": "code",
   "execution_count": 21,
   "id": "baac9389",
   "metadata": {},
   "outputs": [
    {
     "name": "stdout",
     "output_type": "stream",
     "text": [
      "4\n"
     ]
    }
   ],
   "source": [
    "names = ['pedro', 'jose', 'felipe', 'mariano']\n",
    "print (len(names))"
   ]
  },
  {
   "cell_type": "markdown",
   "id": "7ae37a2c",
   "metadata": {},
   "source": [
    "and you can sort its contents with `sorted()`"
   ]
  },
  {
   "cell_type": "code",
   "execution_count": 22,
   "id": "ca0d7a4e",
   "metadata": {},
   "outputs": [
    {
     "name": "stdout",
     "output_type": "stream",
     "text": [
      "['felipe', 'jose', 'mariano', 'pedro']\n",
      "['pedro', 'jose', 'felipe', 'mariano']\n"
     ]
    }
   ],
   "source": [
    "names = ['pedro', 'jose', 'felipe', 'mariano']\n",
    "print (sorted(names))\n",
    "print (names)"
   ]
  },
  {
   "cell_type": "markdown",
   "id": "b9112819",
   "metadata": {},
   "source": [
    "which, as you sure have noticed, sorts strings\n",
    "alphabetically.\n",
    "\n",
    "To finalize we will say that as objects, lists\n",
    "have associated **methods** that are particularly\n",
    "useful. For example, you can easily add an element\n",
    "to a list"
   ]
  },
  {
   "cell_type": "code",
   "execution_count": 23,
   "id": "9651805b",
   "metadata": {},
   "outputs": [
    {
     "name": "stdout",
     "output_type": "stream",
     "text": [
      "['pedro', 'jose', 'felipe', 'mariano', 'yolanda']\n"
     ]
    }
   ],
   "source": [
    "names = ['pedro', 'jose', 'felipe', 'mariano']\n",
    "names.append('yolanda')\n",
    "print (names)"
   ]
  },
  {
   "cell_type": "markdown",
   "id": "cc4c4047",
   "metadata": {},
   "source": [
    "remove elements from a list"
   ]
  },
  {
   "cell_type": "code",
   "execution_count": 24,
   "id": "0a73fa7b",
   "metadata": {},
   "outputs": [
    {
     "name": "stdout",
     "output_type": "stream",
     "text": [
      "['jose', 'felipe', 'mariano']\n"
     ]
    }
   ],
   "source": [
    "names = ['pedro', 'jose', 'felipe', 'mariano']\n",
    "names.remove('pedro')\n",
    "print (names)"
   ]
  },
  {
   "cell_type": "markdown",
   "id": "6fe5485d",
   "metadata": {},
   "source": [
    "reverse the order of the elements"
   ]
  },
  {
   "cell_type": "code",
   "execution_count": 25,
   "id": "fc44b914",
   "metadata": {},
   "outputs": [
    {
     "name": "stdout",
     "output_type": "stream",
     "text": [
      "['mariano', 'felipe', 'jose', 'pedro']\n"
     ]
    }
   ],
   "source": [
    "names = ['pedro', 'jose', 'felipe', 'mariano']\n",
    "names.reverse()\n",
    "print (names)"
   ]
  },
  {
   "cell_type": "markdown",
   "id": "5f560bc6",
   "metadata": {},
   "source": [
    "or sort them. Remember that before we have used the function\n",
    "`sorted()`. There is an equivalent method:"
   ]
  },
  {
   "cell_type": "code",
   "execution_count": 26,
   "id": "896e5c6f",
   "metadata": {},
   "outputs": [
    {
     "name": "stdout",
     "output_type": "stream",
     "text": [
      "[1, 30, 100]\n"
     ]
    }
   ],
   "source": [
    "numbers = [30, 1,  100]\n",
    "numbers.sort()\n",
    "print (numbers)"
   ]
  },
  {
   "cell_type": "markdown",
   "id": "8de6d970",
   "metadata": {},
   "source": [
    "```{exercise}\n",
    ":nonumber:\n",
    ":class: dropdown\n",
    "\n",
    " Create a list called fruits with three fruit names, and print the first and\n",
    " last elements of the fruits list. Add a new fruit to the list and \n",
    "remove a fruit. At every stage, print the length of the fruits list.\n",
    "\n",
    "```\n",
    "\n",
    "**Dictionaries** are a more sofisticated type of sequence,\n",
    "with elements having multiple entries called **keys** and\n",
    "their corresponing **values**. Their structure is hence\n",
    "```python\n",
    "mydict = {key1: val1, key2: val2, key3: val3}\n",
    "```\n",
    "There is great flexibility in terms of what can be a key\n",
    "or a value\n",
    "```python\n",
    "presidents = {'Adolfo': [1976, 1977, 1979], 'Leopoldo': [1981], \\\n",
    "              'Felipe': [1982, 1986, 1989, 1993]}\n",
    "```\n",
    "You can access dictionaries in many different ways, for\n",
    "example using the `items()`, `keys()` or `values()` method"
   ]
  },
  {
   "cell_type": "code",
   "execution_count": 27,
   "id": "dbd53498",
   "metadata": {},
   "outputs": [
    {
     "name": "stdout",
     "output_type": "stream",
     "text": [
      "dict_items([('Adolfo', [1976, 1977, 1979]), ('Leopoldo', [1981]), ('Felipe', [1982, 1986, 1989, 1993])])\n",
      "dict_keys(['Adolfo', 'Leopoldo', 'Felipe'])\n",
      "dict_values([[1976, 1977, 1979], [1981], [1982, 1986, 1989, 1993]])\n"
     ]
    }
   ],
   "source": [
    "presidents = {'Adolfo': [1976, 1977, 1979], 'Leopoldo': [1981], \\\n",
    "              'Felipe': [1982, 1986, 1989, 1993]}\n",
    "print (presidents.items())\n",
    "print (presidents.keys())\n",
    "print (presidents.values())"
   ]
  },
  {
   "cell_type": "markdown",
   "id": "797bcbf6",
   "metadata": {},
   "source": [
    "In the next few lessons we will put all these data structures \n",
    "to good use.\n",
    "\n",
    "```{exercise}\n",
    ":nonumber:\n",
    ":class: dropdown\n",
    "\n",
    "Create a dictionary called student with your name and age 10.\n",
    "Print the student dictionary. Update the age to your current age.\n",
    "Add your university as a new key.\n",
    "Remove the \"age\" key. Print the updated student dictionary.\n",
    "```"
   ]
  }
 ],
 "metadata": {
  "jupytext": {
   "text_representation": {
    "extension": ".md",
    "format_name": "myst"
   }
  },
  "kernelspec": {
   "display_name": "Python 3",
   "language": "python",
   "name": "python3"
  },
  "language_info": {
   "codemirror_mode": {
    "name": "ipython",
    "version": 3
   },
   "file_extension": ".py",
   "mimetype": "text/x-python",
   "name": "python",
   "nbconvert_exporter": "python",
   "pygments_lexer": "ipython3",
   "version": "3.8.20"
  },
  "source_map": [
   10,
   102,
   105,
   261,
   263,
   278,
   283,
   314,
   317,
   326,
   328,
   342,
   344,
   375,
   378,
   382,
   387,
   389,
   393,
   400,
   402,
   417,
   420,
   431,
   434,
   437,
   440,
   447,
   450,
   453,
   456,
   459,
   462,
   573,
   575,
   577,
   579,
   582,
   584,
   587,
   590,
   601,
   604,
   606,
   610,
   618,
   622,
   624,
   628,
   630,
   634,
   637,
   641,
   666,
   672
  ]
 },
 "nbformat": 4,
 "nbformat_minor": 5
}